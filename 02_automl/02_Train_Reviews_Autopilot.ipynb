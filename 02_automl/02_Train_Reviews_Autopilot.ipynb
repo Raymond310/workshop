{
 "cells": [
  {
   "cell_type": "markdown",
   "metadata": {},
   "source": [
    "# Train a Model with SageMaker Autopilot\n",
    "\n",
    "We will use Autopilot to predict sentiment of customer reviews. Autopilot implements a unique white-box approach to AutoML. \n",
    "\n",
    "For more on Autopilot, you can review the following research paper:  https://assets.amazon.science/e8/8b/2366b1ab407990dec96e55ee5664/amazon-sagemaker-autopilot-a-white-box-automl-solution-at-scale.pdf"
   ]
  },
  {
   "cell_type": "markdown",
   "metadata": {},
   "source": [
    "<img src=\"img/autopilot.png\" width=\"80%\" align=\"left\">"
   ]
  },
  {
   "cell_type": "markdown",
   "metadata": {},
   "source": [
    "# Introduction"
   ]
  },
  {
   "cell_type": "markdown",
   "metadata": {},
   "source": [
    "Amazon SageMaker Autopilot is a service to perform automated machine learning (AutoML) on your datasets.  Autopilot is available through the UI or AWS SDK.  In this notebook, we will use the AWS SDK to create and deploy a text processing and sentiment classification machine learning pipeline."
   ]
  },
  {
   "cell_type": "markdown",
   "metadata": {},
   "source": [
    "# Pre-Requisite\n",
    "\n",
    "## Make sure the previous notebook has run fully and prepared the dataset."
   ]
  },
  {
   "cell_type": "markdown",
   "metadata": {},
   "source": [
    "# Setup\n",
    "\n",
    "Let's start by specifying:\n",
    "\n",
    "* The S3 bucket and prefix to use to train our model.  _Note:  This should be in the same region as this notebook._\n",
    "* The IAM role of this notebook needs access to your data."
   ]
  },
  {
   "cell_type": "markdown",
   "metadata": {},
   "source": [
    "# Note:  This notebook will take some time.  Feel free to continue to the next notebooks whenever you are waiting for the current notebook to finish.\n",
    "We do this throughout the entire workshop as some of these notebooks may run for a while."
   ]
  },
  {
   "cell_type": "code",
   "execution_count": 1,
   "metadata": {},
   "outputs": [],
   "source": [
    "import boto3\n",
    "import sagemaker\n",
    "import pandas as pd\n",
    "\n",
    "sess   = sagemaker.Session()\n",
    "bucket = sess.default_bucket()\n",
    "role = sagemaker.get_execution_role()\n",
    "region = boto3.Session().region_name\n",
    "\n",
    "sm = boto3.Session().client(service_name='sagemaker', region_name=region)"
   ]
  },
  {
   "cell_type": "markdown",
   "metadata": {},
   "source": [
    "# Dataset"
   ]
  },
  {
   "cell_type": "code",
   "execution_count": 2,
   "metadata": {},
   "outputs": [],
   "source": [
    "%store -r header_train_s3_uri"
   ]
  },
  {
   "cell_type": "code",
   "execution_count": 3,
   "metadata": {},
   "outputs": [],
   "source": [
    "if not header_train_s3_uri:\n",
    "    print('****************************************************************************************')\n",
    "    print('**************** PLEASE RE-RUN THE PREVIOUS DATA PREPARATION NOTEBOOK ******************')\n",
    "    print('**************** THIS NOTEBOOK WILL NOT RUN PROPERLY ***********************************')\n",
    "    print('****************************************************************************************')"
   ]
  },
  {
   "cell_type": "code",
   "execution_count": 4,
   "metadata": {},
   "outputs": [
    {
     "name": "stdout",
     "output_type": "stream",
     "text": [
      "s3://sagemaker-us-west-2-032934710550/data/amazon_reviews_us_Digital_Software_v1_00_header.csv\n"
     ]
    }
   ],
   "source": [
    "print(header_train_s3_uri)"
   ]
  },
  {
   "cell_type": "code",
   "execution_count": 5,
   "metadata": {},
   "outputs": [
    {
     "name": "stdout",
     "output_type": "stream",
     "text": [
      "2020-08-22 15:42:27   13621112 amazon_reviews_us_Digital_Software_v1_00_header.csv\r\n"
     ]
    }
   ],
   "source": [
    "!aws s3 ls $header_train_s3_uri"
   ]
  },
  {
   "cell_type": "markdown",
   "metadata": {},
   "source": [
    "## See our prepared training data which we use as input for Autopilot"
   ]
  },
  {
   "cell_type": "code",
   "execution_count": 6,
   "metadata": {},
   "outputs": [
    {
     "name": "stdout",
     "output_type": "stream",
     "text": [
      "download: s3://sagemaker-us-west-2-032934710550/data/amazon_reviews_us_Digital_Software_v1_00_header.csv to data/amazon_reviews_us_Digital_Software_v1_00_header.csv\n"
     ]
    }
   ],
   "source": [
    "!aws s3 cp $header_train_s3_uri ./data/"
   ]
  },
  {
   "cell_type": "code",
   "execution_count": 7,
   "metadata": {},
   "outputs": [
    {
     "data": {
      "text/html": [
       "<div>\n",
       "<style scoped>\n",
       "    .dataframe tbody tr th:only-of-type {\n",
       "        vertical-align: middle;\n",
       "    }\n",
       "\n",
       "    .dataframe tbody tr th {\n",
       "        vertical-align: top;\n",
       "    }\n",
       "\n",
       "    .dataframe thead th {\n",
       "        text-align: right;\n",
       "    }\n",
       "</style>\n",
       "<table border=\"1\" class=\"dataframe\">\n",
       "  <thead>\n",
       "    <tr style=\"text-align: right;\">\n",
       "      <th></th>\n",
       "      <th>star_rating</th>\n",
       "      <th>review_body</th>\n",
       "    </tr>\n",
       "  </thead>\n",
       "  <tbody>\n",
       "    <tr>\n",
       "      <th>0</th>\n",
       "      <td>2</td>\n",
       "      <td>I use to use Quicken 2006 on my Windows comput...</td>\n",
       "    </tr>\n",
       "    <tr>\n",
       "      <th>1</th>\n",
       "      <td>5</td>\n",
       "      <td>great product. easy installation and maintenan...</td>\n",
       "    </tr>\n",
       "    <tr>\n",
       "      <th>2</th>\n",
       "      <td>1</td>\n",
       "      <td>basically only download banking activity. Cant...</td>\n",
       "    </tr>\n",
       "    <tr>\n",
       "      <th>3</th>\n",
       "      <td>2</td>\n",
       "      <td>I'd normally rate this very high.  I've used Q...</td>\n",
       "    </tr>\n",
       "    <tr>\n",
       "      <th>4</th>\n",
       "      <td>2</td>\n",
       "      <td>Each register update takes a long time.  The c...</td>\n",
       "    </tr>\n",
       "  </tbody>\n",
       "</table>\n",
       "</div>"
      ],
      "text/plain": [
       "   star_rating                                        review_body\n",
       "0            2  I use to use Quicken 2006 on my Windows comput...\n",
       "1            5  great product. easy installation and maintenan...\n",
       "2            1  basically only download banking activity. Cant...\n",
       "3            2  I'd normally rate this very high.  I've used Q...\n",
       "4            2  Each register update takes a long time.  The c..."
      ]
     },
     "execution_count": 7,
     "metadata": {},
     "output_type": "execute_result"
    }
   ],
   "source": [
    "import csv\n",
    "\n",
    "df = pd.read_csv('./data/amazon_reviews_us_Digital_Software_v1_00_header.csv')\n",
    "df.head()"
   ]
  },
  {
   "cell_type": "markdown",
   "metadata": {},
   "source": [
    "# Setup the S3 Location for the Autopilot-Generated Assets \n",
    "This include Jupyter Notebooks (Analysis), Python Scripts (Feature Engineering), and Trained Models."
   ]
  },
  {
   "cell_type": "code",
   "execution_count": 8,
   "metadata": {},
   "outputs": [
    {
     "name": "stdout",
     "output_type": "stream",
     "text": [
      "s3://sagemaker-us-west-2-032934710550/models/autopilot\n"
     ]
    }
   ],
   "source": [
    "prefix_model_output = 'models/autopilot'\n",
    "\n",
    "model_output_s3_uri = 's3://{}/{}'.format(bucket, prefix_model_output)\n",
    "\n",
    "print(model_output_s3_uri)\n"
   ]
  },
  {
   "cell_type": "code",
   "execution_count": 11,
   "metadata": {},
   "outputs": [],
   "source": [
    "max_candidates = 3\n",
    "\n",
    "job_config = {\n",
    "    'CompletionCriteria': {\n",
    "      'MaxRuntimePerTrainingJobInSeconds': 600,\n",
    "      'MaxCandidates': max_candidates,\n",
    "      'MaxAutoMLJobRuntimeInSeconds': 3600\n",
    "    },\n",
    "}\n",
    "\n",
    "input_data_config = [{\n",
    "      'DataSource': {\n",
    "        'S3DataSource': {\n",
    "          'S3DataType': 'S3Prefix',\n",
    "          'S3Uri': '{}'.format(header_train_s3_uri)\n",
    "        }\n",
    "      },\n",
    "      'TargetAttributeName': 'star_rating'\n",
    "    }\n",
    "]\n",
    "\n",
    "output_data_config = {\n",
    "    'S3OutputPath': '{}'.format(model_output_s3_uri)\n",
    "}"
   ]
  },
  {
   "cell_type": "markdown",
   "metadata": {},
   "source": [
    "# Launch the SageMaker Autopilot job\n",
    "\n",
    "We can now launch the job by calling the `create_auto_ml_job` API."
   ]
  },
  {
   "cell_type": "code",
   "execution_count": 12,
   "metadata": {},
   "outputs": [
    {
     "name": "stdout",
     "output_type": "stream",
     "text": [
      "AutoMLJobName: automl-dm-22-16-07-22\n"
     ]
    }
   ],
   "source": [
    "from time import gmtime, strftime, sleep\n",
    "timestamp_suffix = strftime('%d-%H-%M-%S', gmtime())\n",
    "\n",
    "auto_ml_job_name = 'automl-dm-' + timestamp_suffix\n",
    "print('AutoMLJobName: ' + auto_ml_job_name)"
   ]
  },
  {
   "cell_type": "markdown",
   "metadata": {},
   "source": [
    "_Note that we are not specifying the `ProblemType`.  Autopilot will automatically detect if we're using regression or classification (binary or multi-class)._"
   ]
  },
  {
   "cell_type": "code",
   "execution_count": 13,
   "metadata": {},
   "outputs": [
    {
     "data": {
      "text/plain": [
       "{'AutoMLJobArn': 'arn:aws:sagemaker:us-west-2:032934710550:automl-job/automl-dm-22-16-07-22',\n",
       " 'ResponseMetadata': {'RequestId': '7ffd1538-d804-4af5-8223-3078a8a317d5',\n",
       "  'HTTPStatusCode': 200,\n",
       "  'HTTPHeaders': {'x-amzn-requestid': '7ffd1538-d804-4af5-8223-3078a8a317d5',\n",
       "   'content-type': 'application/x-amz-json-1.1',\n",
       "   'content-length': '92',\n",
       "   'date': 'Sat, 22 Aug 2020 16:08:28 GMT'},\n",
       "  'RetryAttempts': 0}}"
      ]
     },
     "execution_count": 13,
     "metadata": {},
     "output_type": "execute_result"
    }
   ],
   "source": [
    "sm.create_auto_ml_job(AutoMLJobName=auto_ml_job_name,\n",
    "                      InputDataConfig=input_data_config,\n",
    "                      OutputDataConfig=output_data_config,\n",
    "                      AutoMLJobConfig=job_config,\n",
    "                      RoleArn=role)"
   ]
  },
  {
   "cell_type": "markdown",
   "metadata": {},
   "source": [
    "# Tracking the progress of the Autopilot job\n",
    "\n",
    "SageMaker Autopilot job consists of the following high-level steps: \n",
    "* _Data Analysis_ where the data is summarized and analyzed to determine which feature engineering techniques, hyper-parameters, and models to explore.\n",
    "* _Feature Engineering_ where the data is scrubbed, balanced, combined, and split into train and validation.\n",
    "* _Model Training and Tuning_ where the top performing features, hyper-parameters, and models are selected and trained."
   ]
  },
  {
   "cell_type": "markdown",
   "metadata": {},
   "source": [
    "# Analyzing Data"
   ]
  },
  {
   "cell_type": "code",
   "execution_count": 14,
   "metadata": {},
   "outputs": [
    {
     "name": "stdout",
     "output_type": "stream",
     "text": [
      "{'AutoMLJobName': 'automl-dm-22-16-07-22', 'AutoMLJobArn': 'arn:aws:sagemaker:us-west-2:032934710550:automl-job/automl-dm-22-16-07-22', 'InputDataConfig': [{'DataSource': {'S3DataSource': {'S3DataType': 'S3Prefix', 'S3Uri': 's3://sagemaker-us-west-2-032934710550/data/amazon_reviews_us_Digital_Software_v1_00_header.csv'}}, 'TargetAttributeName': 'star_rating'}], 'OutputDataConfig': {'S3OutputPath': 's3://sagemaker-us-west-2-032934710550/models/autopilot'}, 'RoleArn': 'arn:aws:iam::032934710550:role/TeamRole', 'AutoMLJobConfig': {'CompletionCriteria': {'MaxCandidates': 3, 'MaxRuntimePerTrainingJobInSeconds': 600, 'MaxAutoMLJobRuntimeInSeconds': 3600}}, 'CreationTime': datetime.datetime(2020, 8, 22, 16, 8, 28, 369000, tzinfo=tzlocal()), 'LastModifiedTime': datetime.datetime(2020, 8, 22, 16, 11, 44, 704000, tzinfo=tzlocal()), 'AutoMLJobStatus': 'InProgress', 'AutoMLJobSecondaryStatus': 'AnalyzingData', 'GenerateCandidateDefinitionsOnly': False, 'ResponseMetadata': {'RequestId': 'de63b66a-12ec-4e7f-9a11-b95848511ef1', 'HTTPStatusCode': 200, 'HTTPHeaders': {'x-amzn-requestid': 'de63b66a-12ec-4e7f-9a11-b95848511ef1', 'content-type': 'application/x-amz-json-1.1', 'content-length': '816', 'date': 'Sat, 22 Aug 2020 16:11:57 GMT'}, 'RetryAttempts': 0}}\n"
     ]
    }
   ],
   "source": [
    "# Sleep for a bit to ensure the AutoML job above has time to start\n",
    "import time\n",
    "time.sleep(30)\n",
    "\n",
    "job = sm.describe_auto_ml_job(AutoMLJobName=auto_ml_job_name)\n",
    "print(job)"
   ]
  },
  {
   "cell_type": "markdown",
   "metadata": {},
   "source": [
    "### Check if the Autopilot Job started correctly."
   ]
  },
  {
   "cell_type": "code",
   "execution_count": 15,
   "metadata": {},
   "outputs": [
    {
     "name": "stdout",
     "output_type": "stream",
     "text": [
      "OK\n"
     ]
    }
   ],
   "source": [
    "if not bool(job):\n",
    "    print('STOP: Autopilot Job did NOT start correctly. Please re-run the notebook from start.')\n",
    "elif 'AutoMLJobStatus' not in job.keys():\n",
    "    print('STOP: Autopilot Job did NOT start correctly. Please re-run the notebook from start.')\n",
    "elif 'AutoMLJobSecondaryStatus' not in job.keys():\n",
    "    print('STOP: Autopilot Job did NOT start correctly. Please re-run the notebook from start.')\n",
    "else:\n",
    "    print('OK')"
   ]
  },
  {
   "cell_type": "code",
   "execution_count": 17,
   "metadata": {},
   "outputs": [
    {
     "name": "stdout",
     "output_type": "stream",
     "text": [
      "Data analysis complete\n",
      "{'AutoMLJobName': 'automl-dm-22-16-07-22', 'AutoMLJobArn': 'arn:aws:sagemaker:us-west-2:032934710550:automl-job/automl-dm-22-16-07-22', 'InputDataConfig': [{'DataSource': {'S3DataSource': {'S3DataType': 'S3Prefix', 'S3Uri': 's3://sagemaker-us-west-2-032934710550/data/amazon_reviews_us_Digital_Software_v1_00_header.csv'}}, 'TargetAttributeName': 'star_rating'}], 'OutputDataConfig': {'S3OutputPath': 's3://sagemaker-us-west-2-032934710550/models/autopilot'}, 'RoleArn': 'arn:aws:iam::032934710550:role/TeamRole', 'AutoMLJobConfig': {'CompletionCriteria': {'MaxCandidates': 3, 'MaxRuntimePerTrainingJobInSeconds': 600, 'MaxAutoMLJobRuntimeInSeconds': 3600}}, 'CreationTime': datetime.datetime(2020, 8, 22, 16, 8, 28, 369000, tzinfo=tzlocal()), 'LastModifiedTime': datetime.datetime(2020, 8, 22, 16, 16, 45, 285000, tzinfo=tzlocal()), 'AutoMLJobStatus': 'InProgress', 'AutoMLJobSecondaryStatus': 'FeatureEngineering', 'GenerateCandidateDefinitionsOnly': False, 'AutoMLJobArtifacts': {'CandidateDefinitionNotebookLocation': 's3://sagemaker-us-west-2-032934710550/models/autopilot/automl-dm-22-16-07-22/sagemaker-automl-candidates/pr-1-25aaac5334d74cffafa6a906b1c2cb4b350efabd82614df984635d3426/notebooks/SageMakerAutopilotCandidateDefinitionNotebook.ipynb', 'DataExplorationNotebookLocation': 's3://sagemaker-us-west-2-032934710550/models/autopilot/automl-dm-22-16-07-22/sagemaker-automl-candidates/pr-1-25aaac5334d74cffafa6a906b1c2cb4b350efabd82614df984635d3426/notebooks/SageMakerAutopilotDataExplorationNotebook.ipynb'}, 'ResolvedAttributes': {'AutoMLJobObjective': {'MetricName': 'Accuracy'}, 'ProblemType': 'MulticlassClassification', 'CompletionCriteria': {'MaxCandidates': 3, 'MaxRuntimePerTrainingJobInSeconds': 600, 'MaxAutoMLJobRuntimeInSeconds': 3600}}, 'ResponseMetadata': {'RequestId': 'f5dacf08-d1ba-4198-bb81-bdd6504ae8cc', 'HTTPStatusCode': 200, 'HTTPHeaders': {'x-amzn-requestid': 'f5dacf08-d1ba-4198-bb81-bdd6504ae8cc', 'content-type': 'application/x-amz-json-1.1', 'content-length': '1606', 'date': 'Sat, 22 Aug 2020 16:16:47 GMT'}, 'RetryAttempts': 0}}\n"
     ]
    }
   ],
   "source": [
    "job_status = job['AutoMLJobStatus']\n",
    "job_sec_status = job['AutoMLJobSecondaryStatus']\n",
    "\n",
    "if job_status not in ('Stopped', 'Failed'):\n",
    "    while job_status in ('InProgress') and job_sec_status in ('AnalyzingData'):\n",
    "        job = sm.describe_auto_ml_job(AutoMLJobName=auto_ml_job_name)\n",
    "        job_status = job['AutoMLJobStatus']\n",
    "        job_sec_status = job['AutoMLJobSecondaryStatus']\n",
    "        print(job_status, job_sec_status)\n",
    "        sleep(30)\n",
    "    print(\"Data analysis complete\")\n",
    "    \n",
    "print(job)"
   ]
  },
  {
   "cell_type": "code",
   "execution_count": 18,
   "metadata": {
    "scrolled": true
   },
   "outputs": [
    {
     "name": "stdout",
     "output_type": "stream",
     "text": [
      "{'AutoMLJobName': 'automl-dm-22-16-07-22', 'AutoMLJobArn': 'arn:aws:sagemaker:us-west-2:032934710550:automl-job/automl-dm-22-16-07-22', 'InputDataConfig': [{'DataSource': {'S3DataSource': {'S3DataType': 'S3Prefix', 'S3Uri': 's3://sagemaker-us-west-2-032934710550/data/amazon_reviews_us_Digital_Software_v1_00_header.csv'}}, 'TargetAttributeName': 'star_rating'}], 'OutputDataConfig': {'S3OutputPath': 's3://sagemaker-us-west-2-032934710550/models/autopilot'}, 'RoleArn': 'arn:aws:iam::032934710550:role/TeamRole', 'AutoMLJobConfig': {'CompletionCriteria': {'MaxCandidates': 3, 'MaxRuntimePerTrainingJobInSeconds': 600, 'MaxAutoMLJobRuntimeInSeconds': 3600}}, 'CreationTime': datetime.datetime(2020, 8, 22, 16, 8, 28, 369000, tzinfo=tzlocal()), 'LastModifiedTime': datetime.datetime(2020, 8, 22, 16, 17, 8, 45000, tzinfo=tzlocal()), 'AutoMLJobStatus': 'InProgress', 'AutoMLJobSecondaryStatus': 'FeatureEngineering', 'GenerateCandidateDefinitionsOnly': False, 'AutoMLJobArtifacts': {'CandidateDefinitionNotebookLocation': 's3://sagemaker-us-west-2-032934710550/models/autopilot/automl-dm-22-16-07-22/sagemaker-automl-candidates/pr-1-25aaac5334d74cffafa6a906b1c2cb4b350efabd82614df984635d3426/notebooks/SageMakerAutopilotCandidateDefinitionNotebook.ipynb', 'DataExplorationNotebookLocation': 's3://sagemaker-us-west-2-032934710550/models/autopilot/automl-dm-22-16-07-22/sagemaker-automl-candidates/pr-1-25aaac5334d74cffafa6a906b1c2cb4b350efabd82614df984635d3426/notebooks/SageMakerAutopilotDataExplorationNotebook.ipynb'}, 'ResolvedAttributes': {'AutoMLJobObjective': {'MetricName': 'Accuracy'}, 'ProblemType': 'MulticlassClassification', 'CompletionCriteria': {'MaxCandidates': 3, 'MaxRuntimePerTrainingJobInSeconds': 600, 'MaxAutoMLJobRuntimeInSeconds': 3600}}, 'ResponseMetadata': {'RequestId': '3bd3c04b-f51e-4d2f-854f-590fa9b80371', 'HTTPStatusCode': 200, 'HTTPHeaders': {'x-amzn-requestid': '3bd3c04b-f51e-4d2f-854f-590fa9b80371', 'content-type': 'application/x-amz-json-1.1', 'content-length': '1606', 'date': 'Sat, 22 Aug 2020 16:17:16 GMT'}, 'RetryAttempts': 0}}\n"
     ]
    }
   ],
   "source": [
    "job = sm.describe_auto_ml_job(AutoMLJobName=auto_ml_job_name)\n",
    "print(job)  "
   ]
  },
  {
   "cell_type": "markdown",
   "metadata": {},
   "source": [
    "# View Generated Notebook Samples\n",
    "Once data analysis is complete, SageMaker AutoPilot generates two notebooks: \n",
    "* Data exploration,\n",
    "* Candidate definition.\n",
    "\n",
    "# In the Jupyter File Browser, Open the Following Folders to See Samples of the Generated Assets:\n",
    "```\n",
    "notebooks/\n",
    "generated_module/\n",
    "```\n",
    "\n",
    "Lots of useful information ^^ in these folders ^^\n",
    "\n",
    "(Optional) You can download the actual files generated for your specific Autopilot run using the following:\n",
    "```\n",
    "generated_resources = job['AutoMLJobArtifacts']['DataExplorationNotebookLocation'].rstrip('notebooks/SageMakerAutopilotDataExplorationNotebook.ipynb')\n",
    "\n",
    "!aws s3 cp --recursive $generated_resources .\n",
    "```"
   ]
  },
  {
   "cell_type": "markdown",
   "metadata": {},
   "source": [
    "# Feature Engineering"
   ]
  },
  {
   "cell_type": "code",
   "execution_count": 19,
   "metadata": {},
   "outputs": [
    {
     "name": "stdout",
     "output_type": "stream",
     "text": [
      "InProgress\n",
      "FeatureEngineering\n",
      "InProgress FeatureEngineering\n",
      "InProgress FeatureEngineering\n",
      "InProgress FeatureEngineering\n",
      "InProgress FeatureEngineering\n",
      "InProgress FeatureEngineering\n",
      "InProgress FeatureEngineering\n",
      "InProgress FeatureEngineering\n",
      "InProgress FeatureEngineering\n",
      "InProgress FeatureEngineering\n",
      "InProgress FeatureEngineering\n",
      "InProgress FeatureEngineering\n",
      "InProgress FeatureEngineering\n",
      "InProgress FeatureEngineering\n",
      "InProgress FeatureEngineering\n",
      "InProgress FeatureEngineering\n",
      "InProgress FeatureEngineering\n",
      "InProgress ModelTuning\n",
      "Feature engineering complete\n",
      "{'AutoMLJobName': 'automl-dm-22-16-07-22', 'AutoMLJobArn': 'arn:aws:sagemaker:us-west-2:032934710550:automl-job/automl-dm-22-16-07-22', 'InputDataConfig': [{'DataSource': {'S3DataSource': {'S3DataType': 'S3Prefix', 'S3Uri': 's3://sagemaker-us-west-2-032934710550/data/amazon_reviews_us_Digital_Software_v1_00_header.csv'}}, 'TargetAttributeName': 'star_rating'}], 'OutputDataConfig': {'S3OutputPath': 's3://sagemaker-us-west-2-032934710550/models/autopilot'}, 'RoleArn': 'arn:aws:iam::032934710550:role/TeamRole', 'AutoMLJobConfig': {'CompletionCriteria': {'MaxCandidates': 3, 'MaxRuntimePerTrainingJobInSeconds': 600, 'MaxAutoMLJobRuntimeInSeconds': 3600}}, 'CreationTime': datetime.datetime(2020, 8, 22, 16, 8, 28, 369000, tzinfo=tzlocal()), 'LastModifiedTime': datetime.datetime(2020, 8, 22, 16, 25, 6, 762000, tzinfo=tzlocal()), 'AutoMLJobStatus': 'InProgress', 'AutoMLJobSecondaryStatus': 'ModelTuning', 'GenerateCandidateDefinitionsOnly': False, 'AutoMLJobArtifacts': {'CandidateDefinitionNotebookLocation': 's3://sagemaker-us-west-2-032934710550/models/autopilot/automl-dm-22-16-07-22/sagemaker-automl-candidates/pr-1-25aaac5334d74cffafa6a906b1c2cb4b350efabd82614df984635d3426/notebooks/SageMakerAutopilotCandidateDefinitionNotebook.ipynb', 'DataExplorationNotebookLocation': 's3://sagemaker-us-west-2-032934710550/models/autopilot/automl-dm-22-16-07-22/sagemaker-automl-candidates/pr-1-25aaac5334d74cffafa6a906b1c2cb4b350efabd82614df984635d3426/notebooks/SageMakerAutopilotDataExplorationNotebook.ipynb'}, 'ResolvedAttributes': {'AutoMLJobObjective': {'MetricName': 'Accuracy'}, 'ProblemType': 'MulticlassClassification', 'CompletionCriteria': {'MaxCandidates': 3, 'MaxRuntimePerTrainingJobInSeconds': 600, 'MaxAutoMLJobRuntimeInSeconds': 3600}}, 'ResponseMetadata': {'RequestId': 'a1dc941b-8e4a-4910-b79a-49053befdec2', 'HTTPStatusCode': 200, 'HTTPHeaders': {'x-amzn-requestid': 'a1dc941b-8e4a-4910-b79a-49053befdec2', 'content-type': 'application/x-amz-json-1.1', 'content-length': '1599', 'date': 'Sat, 22 Aug 2020 16:25:18 GMT'}, 'RetryAttempts': 0}}\n"
     ]
    }
   ],
   "source": [
    "job = sm.describe_auto_ml_job(AutoMLJobName=auto_ml_job_name)\n",
    "job_status = job['AutoMLJobStatus']\n",
    "job_sec_status = job['AutoMLJobSecondaryStatus']\n",
    "print(job_status)\n",
    "print(job_sec_status)\n",
    "if job_status not in ('Stopped', 'Failed'):\n",
    "    while job_status in ('InProgress') and job_sec_status in ('FeatureEngineering'):\n",
    "        job = sm.describe_auto_ml_job(AutoMLJobName=auto_ml_job_name)\n",
    "        job_status = job['AutoMLJobStatus']\n",
    "        job_sec_status = job['AutoMLJobSecondaryStatus']\n",
    "        print(job_status, job_sec_status)\n",
    "        sleep(30)\n",
    "    print(\"Feature engineering complete\")\n",
    "    \n",
    "print(job)"
   ]
  },
  {
   "cell_type": "markdown",
   "metadata": {},
   "source": [
    "# Model Training and Tuning"
   ]
  },
  {
   "cell_type": "code",
   "execution_count": 20,
   "metadata": {
    "scrolled": true
   },
   "outputs": [
    {
     "name": "stdout",
     "output_type": "stream",
     "text": [
      "InProgress\n",
      "ModelTuning\n",
      "InProgress ModelTuning\n",
      "InProgress ModelTuning\n",
      "InProgress ModelTuning\n",
      "InProgress ModelTuning\n",
      "InProgress ModelTuning\n",
      "InProgress ModelTuning\n",
      "Completed MaxCandidatesReached\n",
      "Model tuning complete\n",
      "{'AutoMLJobName': 'automl-dm-22-16-07-22', 'AutoMLJobArn': 'arn:aws:sagemaker:us-west-2:032934710550:automl-job/automl-dm-22-16-07-22', 'InputDataConfig': [{'DataSource': {'S3DataSource': {'S3DataType': 'S3Prefix', 'S3Uri': 's3://sagemaker-us-west-2-032934710550/data/amazon_reviews_us_Digital_Software_v1_00_header.csv'}}, 'TargetAttributeName': 'star_rating'}], 'OutputDataConfig': {'S3OutputPath': 's3://sagemaker-us-west-2-032934710550/models/autopilot'}, 'RoleArn': 'arn:aws:iam::032934710550:role/TeamRole', 'AutoMLJobConfig': {'CompletionCriteria': {'MaxCandidates': 3, 'MaxRuntimePerTrainingJobInSeconds': 600, 'MaxAutoMLJobRuntimeInSeconds': 3600}}, 'CreationTime': datetime.datetime(2020, 8, 22, 16, 8, 28, 369000, tzinfo=tzlocal()), 'EndTime': datetime.datetime(2020, 8, 22, 16, 28, 43, 738000, tzinfo=tzlocal()), 'LastModifiedTime': datetime.datetime(2020, 8, 22, 16, 28, 43, 770000, tzinfo=tzlocal()), 'BestCandidate': {'CandidateName': 'tuning-job-1-47702b5469674627a8-003-b1fdce6a', 'FinalAutoMLJobObjectiveMetric': {'MetricName': 'validation:accuracy', 'Value': 0.4068700075149536}, 'ObjectiveStatus': 'Succeeded', 'CandidateSteps': [{'CandidateStepType': 'AWS::SageMaker::ProcessingJob', 'CandidateStepArn': 'arn:aws:sagemaker:us-west-2:032934710550:processing-job/db-1-7fdc27b3a5c74ea0934c0a3ba3e0d78691051828a86f426db3518f1b4b', 'CandidateStepName': 'db-1-7fdc27b3a5c74ea0934c0a3ba3e0d78691051828a86f426db3518f1b4b'}, {'CandidateStepType': 'AWS::SageMaker::TrainingJob', 'CandidateStepArn': 'arn:aws:sagemaker:us-west-2:032934710550:training-job/automl-dm--dpp0-1-95297f77940f48bd866207158fe5371ae750030642854', 'CandidateStepName': 'automl-dm--dpp0-1-95297f77940f48bd866207158fe5371ae750030642854'}, {'CandidateStepType': 'AWS::SageMaker::TransformJob', 'CandidateStepArn': 'arn:aws:sagemaker:us-west-2:032934710550:transform-job/automl-dm--dpp0-rpb-1-9068e8f52f454fbbb3e702e918e3c596e703f0e63', 'CandidateStepName': 'automl-dm--dpp0-rpb-1-9068e8f52f454fbbb3e702e918e3c596e703f0e63'}, {'CandidateStepType': 'AWS::SageMaker::TrainingJob', 'CandidateStepArn': 'arn:aws:sagemaker:us-west-2:032934710550:training-job/tuning-job-1-47702b5469674627a8-003-b1fdce6a', 'CandidateStepName': 'tuning-job-1-47702b5469674627a8-003-b1fdce6a'}], 'CandidateStatus': 'Completed', 'InferenceContainers': [{'Image': '246618743249.dkr.ecr.us-west-2.amazonaws.com/sagemaker-sklearn-automl:0.1.0-cpu-py3', 'ModelDataUrl': 's3://sagemaker-us-west-2-032934710550/models/autopilot/automl-dm-22-16-07-22/data-processor-models/automl-dm--dpp0-1-95297f77940f48bd866207158fe5371ae750030642854/output/model.tar.gz', 'Environment': {'AUTOML_SPARSE_ENCODE_RECORDIO_PROTOBUF': '1', 'AUTOML_TRANSFORM_MODE': 'feature-transform', 'SAGEMAKER_DEFAULT_INVOCATIONS_ACCEPT': 'application/x-recordio-protobuf', 'SAGEMAKER_PROGRAM': 'sagemaker_serve', 'SAGEMAKER_SUBMIT_DIRECTORY': '/opt/ml/model/sagemaker_serve.py'}}, {'Image': '246618743249.dkr.ecr.us-west-2.amazonaws.com/sagemaker-xgboost:1.0-1-cpu-py3', 'ModelDataUrl': 's3://sagemaker-us-west-2-032934710550/models/autopilot/automl-dm-22-16-07-22/tuning/automl-dm--dpp0-xgb/tuning-job-1-47702b5469674627a8-003-b1fdce6a/output/model.tar.gz', 'Environment': {'MAX_CONTENT_LENGTH': '20971520', 'SAGEMAKER_DEFAULT_INVOCATIONS_ACCEPT': 'text/csv', 'SAGEMAKER_INFERENCE_OUTPUT': 'predicted_label', 'SAGEMAKER_INFERENCE_SUPPORTED': 'predicted_label,probability,probabilities'}}, {'Image': '246618743249.dkr.ecr.us-west-2.amazonaws.com/sagemaker-sklearn-automl:0.1.0-cpu-py3', 'ModelDataUrl': 's3://sagemaker-us-west-2-032934710550/models/autopilot/automl-dm-22-16-07-22/data-processor-models/automl-dm--dpp0-1-95297f77940f48bd866207158fe5371ae750030642854/output/model.tar.gz', 'Environment': {'AUTOML_TRANSFORM_MODE': 'inverse-label-transform', 'SAGEMAKER_DEFAULT_INVOCATIONS_ACCEPT': 'text/csv', 'SAGEMAKER_INFERENCE_INPUT': 'predicted_label', 'SAGEMAKER_INFERENCE_OUTPUT': 'predicted_label', 'SAGEMAKER_INFERENCE_SUPPORTED': 'predicted_label,probability,labels,probabilities', 'SAGEMAKER_PROGRAM': 'sagemaker_serve', 'SAGEMAKER_SUBMIT_DIRECTORY': '/opt/ml/model/sagemaker_serve.py'}}], 'CreationTime': datetime.datetime(2020, 8, 22, 16, 27, 15, tzinfo=tzlocal()), 'EndTime': datetime.datetime(2020, 8, 22, 16, 28, 5, tzinfo=tzlocal()), 'LastModifiedTime': datetime.datetime(2020, 8, 22, 16, 28, 42, 829000, tzinfo=tzlocal())}, 'AutoMLJobStatus': 'Completed', 'AutoMLJobSecondaryStatus': 'MaxCandidatesReached', 'GenerateCandidateDefinitionsOnly': False, 'AutoMLJobArtifacts': {'CandidateDefinitionNotebookLocation': 's3://sagemaker-us-west-2-032934710550/models/autopilot/automl-dm-22-16-07-22/sagemaker-automl-candidates/pr-1-25aaac5334d74cffafa6a906b1c2cb4b350efabd82614df984635d3426/notebooks/SageMakerAutopilotCandidateDefinitionNotebook.ipynb', 'DataExplorationNotebookLocation': 's3://sagemaker-us-west-2-032934710550/models/autopilot/automl-dm-22-16-07-22/sagemaker-automl-candidates/pr-1-25aaac5334d74cffafa6a906b1c2cb4b350efabd82614df984635d3426/notebooks/SageMakerAutopilotDataExplorationNotebook.ipynb'}, 'ResolvedAttributes': {'AutoMLJobObjective': {'MetricName': 'Accuracy'}, 'ProblemType': 'MulticlassClassification', 'CompletionCriteria': {'MaxCandidates': 3, 'MaxRuntimePerTrainingJobInSeconds': 600, 'MaxAutoMLJobRuntimeInSeconds': 3600}}, 'ResponseMetadata': {'RequestId': '14c761f1-beb6-4a23-8022-fbad2142e1bf', 'HTTPStatusCode': 200, 'HTTPHeaders': {'x-amzn-requestid': '14c761f1-beb6-4a23-8022-fbad2142e1bf', 'content-type': 'application/x-amz-json-1.1', 'content-length': '4840', 'date': 'Sat, 22 Aug 2020 16:28:48 GMT'}, 'RetryAttempts': 0}}\n"
     ]
    }
   ],
   "source": [
    "job = sm.describe_auto_ml_job(AutoMLJobName=auto_ml_job_name)\n",
    "job_status = job['AutoMLJobStatus']\n",
    "job_sec_status = job['AutoMLJobSecondaryStatus']\n",
    "print(job_status)\n",
    "print(job_sec_status)\n",
    "if job_status not in ('Stopped', 'Failed'):\n",
    "    while job_status in ('InProgress') and job_sec_status in ('ModelTuning'):\n",
    "        job = sm.describe_auto_ml_job(AutoMLJobName=auto_ml_job_name)\n",
    "        job_status = job['AutoMLJobStatus']\n",
    "        job_sec_status = job['AutoMLJobSecondaryStatus']\n",
    "        print(job_status, job_sec_status)\n",
    "        sleep(30)\n",
    "    print(\"Model tuning complete\")\n",
    "    \n",
    "print(job)"
   ]
  },
  {
   "cell_type": "markdown",
   "metadata": {},
   "source": [
    "# _Please Wait Until ^^ Autopilot ^^ Completes Above_\n",
    "Make sure the status below indicates `Completed`."
   ]
  },
  {
   "cell_type": "code",
   "execution_count": 21,
   "metadata": {},
   "outputs": [
    {
     "name": "stdout",
     "output_type": "stream",
     "text": [
      "Completed\n"
     ]
    }
   ],
   "source": [
    "print(job_status)\n",
    "\n",
    "if job_status not in ('Completed'):\n",
    "    print('*******************************************************************')\n",
    "    print('*************** THIS JOB DID NOT COMPLETE PROPERLY ****************')\n",
    "    print('***************  REPORT THE ISSUE OR ASK FOR HELP  ****************')    \n",
    "    print('*******************************************************************')"
   ]
  },
  {
   "cell_type": "markdown",
   "metadata": {},
   "source": [
    "# Viewing All Candidates\n",
    "Once model tuning is complete, you can view all the candidates (pipeline evaluations with different hyperparameter combinations) that were explored by AutoML and sort them by their final performance metric."
   ]
  },
  {
   "cell_type": "code",
   "execution_count": 22,
   "metadata": {},
   "outputs": [],
   "source": [
    "candidates_response = sm.list_candidates_for_auto_ml_job(AutoMLJobName=auto_ml_job_name, \n",
    "                                                         SortBy='FinalObjectiveMetricValue')"
   ]
  },
  {
   "cell_type": "markdown",
   "metadata": {},
   "source": [
    "### Check that candidates is not empty"
   ]
  },
  {
   "cell_type": "code",
   "execution_count": 23,
   "metadata": {},
   "outputs": [
    {
     "name": "stdout",
     "output_type": "stream",
     "text": [
      "OK\n"
     ]
    }
   ],
   "source": [
    "if not bool(candidates_response):\n",
    "    print('STOP: Autopilot Job did NOT finish correctly. Please re-run the notebook from start.')\n",
    "else:\n",
    "    candidates = candidates_response['Candidates']\n",
    "    print('OK')"
   ]
  },
  {
   "cell_type": "code",
   "execution_count": 24,
   "metadata": {},
   "outputs": [
    {
     "name": "stdout",
     "output_type": "stream",
     "text": [
      "OK\n"
     ]
    }
   ],
   "source": [
    "if not bool(candidates):\n",
    "    print('STOP: Autopilot Job did NOT finish correctly. Please re-run the notebook from start.')\n",
    "elif 'CandidateName' not in candidates[0]:\n",
    "    print('STOP: Autopilot Job did NOT finish correctly. Please re-run the notebook from start.')\n",
    "elif 'FinalAutoMLJobObjectiveMetric' not in candidates[0]:\n",
    "    print('STOP: Autopilot Job did NOT start correctly. Please re-run the notebook from start.')\n",
    "else:\n",
    "    print('OK')"
   ]
  },
  {
   "cell_type": "code",
   "execution_count": 25,
   "metadata": {},
   "outputs": [
    {
     "name": "stdout",
     "output_type": "stream",
     "text": [
      "0  tuning-job-1-47702b5469674627a8-003-b1fdce6a  0.4068700075149536\n",
      "1  tuning-job-1-47702b5469674627a8-002-00dfae9b  0.3902600109577179\n",
      "2  tuning-job-1-47702b5469674627a8-001-5b1439b0  0.3817099928855896\n"
     ]
    }
   ],
   "source": [
    "for index, candidate in enumerate(candidates):\n",
    "    print(str(index) + \"  \" \n",
    "        + candidate['CandidateName'] + \"  \" \n",
    "        + str(candidate['FinalAutoMLJobObjectiveMetric']['Value']))"
   ]
  },
  {
   "cell_type": "markdown",
   "metadata": {},
   "source": [
    "# Inspect Trials using Experiments API\n",
    "\n",
    "SageMaker Autopilot automatically creates a new experiment, and pushes information for each trial. "
   ]
  },
  {
   "cell_type": "code",
   "execution_count": 26,
   "metadata": {},
   "outputs": [
    {
     "name": "stdout",
     "output_type": "stream",
     "text": [
      "                                  TrialComponentName  \\\n",
      "0  tuning-job-1-47702b5469674627a8-003-b1fdce6a-a...   \n",
      "1  tuning-job-1-47702b5469674627a8-002-00dfae9b-a...   \n",
      "2  tuning-job-1-47702b5469674627a8-001-5b1439b0-a...   \n",
      "3  automl-dm--dpp0-rpb-1-9068e8f52f454fbbb3e702e9...   \n",
      "4  automl-dm--dpp0-1-95297f77940f48bd866207158fe5...   \n",
      "5  db-1-7fdc27b3a5c74ea0934c0a3ba3e0d78691051828a...   \n",
      "\n",
      "                                         DisplayName  \\\n",
      "0  tuning-job-1-47702b5469674627a8-003-b1fdce6a-a...   \n",
      "1  tuning-job-1-47702b5469674627a8-002-00dfae9b-a...   \n",
      "2  tuning-job-1-47702b5469674627a8-001-5b1439b0-a...   \n",
      "3  automl-dm--dpp0-rpb-1-9068e8f52f454fbbb3e702e9...   \n",
      "4  automl-dm--dpp0-1-95297f77940f48bd866207158fe5...   \n",
      "5  db-1-7fdc27b3a5c74ea0934c0a3ba3e0d78691051828a...   \n",
      "\n",
      "                                           SourceArn  \\\n",
      "0  arn:aws:sagemaker:us-west-2:032934710550:train...   \n",
      "1  arn:aws:sagemaker:us-west-2:032934710550:train...   \n",
      "2  arn:aws:sagemaker:us-west-2:032934710550:train...   \n",
      "3  arn:aws:sagemaker:us-west-2:032934710550:trans...   \n",
      "4  arn:aws:sagemaker:us-west-2:032934710550:train...   \n",
      "5  arn:aws:sagemaker:us-west-2:032934710550:proce...   \n",
      "\n",
      "                                  SageMaker.ImageUri  SageMaker.InstanceCount  \\\n",
      "0  246618743249.dkr.ecr.us-west-2.amazonaws.com/s...                      1.0   \n",
      "1  246618743249.dkr.ecr.us-west-2.amazonaws.com/s...                      1.0   \n",
      "2  246618743249.dkr.ecr.us-west-2.amazonaws.com/s...                      1.0   \n",
      "3                                                NaN                      1.0   \n",
      "4  246618743249.dkr.ecr.us-west-2.amazonaws.com/s...                      1.0   \n",
      "5                                                NaN                      1.0   \n",
      "\n",
      "  SageMaker.InstanceType  SageMaker.VolumeSizeInGB _tuning_objective_metric  \\\n",
      "0          ml.m5.4xlarge                      50.0      validation:accuracy   \n",
      "1          ml.m5.4xlarge                      50.0      validation:accuracy   \n",
      "2          ml.m5.4xlarge                      50.0      validation:accuracy   \n",
      "3          ml.m5.4xlarge                       NaN                      NaN   \n",
      "4          ml.m5.4xlarge                      50.0                      NaN   \n",
      "5          ml.m5.2xlarge                     250.0                      NaN   \n",
      "\n",
      "      alpha  colsample_bytree  ...  sagemaker_submit_directory  \\\n",
      "0  0.000006          0.607035  ...                         NaN   \n",
      "1  0.268741          0.760270  ...                         NaN   \n",
      "2  0.000186          0.456600  ...                         NaN   \n",
      "3       NaN               NaN  ...                         NaN   \n",
      "4       NaN               NaN  ...     /opt/ml/input/data/code   \n",
      "5       NaN               NaN  ...                         NaN   \n",
      "\n",
      "     code - MediaType                                       code - Value  \\\n",
      "0                 NaN                                                NaN   \n",
      "1                 NaN                                                NaN   \n",
      "2                 NaN                                                NaN   \n",
      "3                 NaN                                                NaN   \n",
      "4  application/x-code  s3://sagemaker-us-west-2-032934710550/models/a...   \n",
      "5                 NaN                                                NaN   \n",
      "\n",
      "   input_channel_mode               job_name    label_col  \\\n",
      "0                 NaN                    NaN          NaN   \n",
      "1                 NaN                    NaN          NaN   \n",
      "2                 NaN                    NaN          NaN   \n",
      "3                 NaN                    NaN          NaN   \n",
      "4                 NaN                    NaN          NaN   \n",
      "5                Pipe  automl-dm-22-16-07-22  star_rating   \n",
      "\n",
      "   SageMaker.ImageUri - MediaType  \\\n",
      "0                             NaN   \n",
      "1                             NaN   \n",
      "2                             NaN   \n",
      "3                             NaN   \n",
      "4                             NaN   \n",
      "5                             NaN   \n",
      "\n",
      "                          SageMaker.ImageUri - Value  ds - MediaType  \\\n",
      "0                                                NaN             NaN   \n",
      "1                                                NaN             NaN   \n",
      "2                                                NaN             NaN   \n",
      "3                                                NaN             NaN   \n",
      "4                                                NaN             NaN   \n",
      "5  685499690500.dkr.ecr.us-west-2.amazonaws.com/d...             NaN   \n",
      "\n",
      "                                          ds - Value  \n",
      "0                                                NaN  \n",
      "1                                                NaN  \n",
      "2                                                NaN  \n",
      "3                                                NaN  \n",
      "4                                                NaN  \n",
      "5  s3://sagemaker-us-west-2-032934710550/models/a...  \n",
      "\n",
      "[6 rows x 74 columns]\n"
     ]
    }
   ],
   "source": [
    "from sagemaker.analytics import ExperimentAnalytics, TrainingJobAnalytics\n",
    "\n",
    "exp = ExperimentAnalytics(\n",
    "    sagemaker_session=sess, \n",
    "    experiment_name=auto_ml_job_name + '-aws-auto-ml-job',\n",
    ")\n",
    "\n",
    "df = exp.dataframe()\n",
    "print(df)"
   ]
  },
  {
   "cell_type": "markdown",
   "metadata": {},
   "source": [
    "# Explore the Best Candidate\n",
    "Now that we have successfully completed the AutoML job on our dataset and visualized the trials, we can create a model from any of the trials with a single API call and then deploy that model for online or batch prediction using [Inference Pipelines](https://docs.aws.amazon.com/sagemaker/latest/dg/inference-pipelines.html). For this notebook, we deploy only the best performing trial for inference."
   ]
  },
  {
   "cell_type": "markdown",
   "metadata": {},
   "source": [
    "The best candidate is the one we're really interested in."
   ]
  },
  {
   "cell_type": "code",
   "execution_count": 27,
   "metadata": {},
   "outputs": [],
   "source": [
    "best_candidate_response = sm.describe_auto_ml_job(AutoMLJobName=auto_ml_job_name)"
   ]
  },
  {
   "cell_type": "code",
   "execution_count": 28,
   "metadata": {},
   "outputs": [
    {
     "name": "stdout",
     "output_type": "stream",
     "text": [
      "OK\n"
     ]
    }
   ],
   "source": [
    "if not bool(best_candidate_response):\n",
    "    print('STOP: Autopilot Job did NOT finish correctly. Please re-run the notebook from start.')\n",
    "else:\n",
    "    best_candidate = best_candidate_response['BestCandidate']\n",
    "    print('OK')"
   ]
  },
  {
   "cell_type": "code",
   "execution_count": 29,
   "metadata": {},
   "outputs": [
    {
     "name": "stdout",
     "output_type": "stream",
     "text": [
      "Candidate name: tuning-job-1-47702b5469674627a8-003-b1fdce6a\n",
      "Metric name: validation:accuracy\n",
      "Metric value: 0.4068700075149536\n"
     ]
    }
   ],
   "source": [
    "if not bool(best_candidate):\n",
    "    print('STOP: Autopilot Job did NOT finish correctly. Please re-run the notebook from start.')\n",
    "elif 'CandidateName' not in best_candidate:\n",
    "    print('STOP: Autopilot Job did NOT finish correctly. Please re-run the notebook from start.')\n",
    "elif 'FinalAutoMLJobObjectiveMetric' not in best_candidate:\n",
    "    print('STOP: Autopilot Job did NOT finish correctly. Please re-run the notebook from start.')\n",
    "else:\n",
    "    best_candidate_identifier = best_candidate['CandidateName']\n",
    "    print(\"Candidate name: \" + best_candidate_identifier)\n",
    "    print(\"Metric name: \" + best_candidate['FinalAutoMLJobObjectiveMetric']['MetricName'])\n",
    "    print(\"Metric value: \" + str(best_candidate['FinalAutoMLJobObjectiveMetric']['Value']))\n"
   ]
  },
  {
   "cell_type": "code",
   "execution_count": 30,
   "metadata": {},
   "outputs": [
    {
     "data": {
      "text/plain": [
       "{'CandidateName': 'tuning-job-1-47702b5469674627a8-003-b1fdce6a',\n",
       " 'FinalAutoMLJobObjectiveMetric': {'MetricName': 'validation:accuracy',\n",
       "  'Value': 0.4068700075149536},\n",
       " 'ObjectiveStatus': 'Succeeded',\n",
       " 'CandidateSteps': [{'CandidateStepType': 'AWS::SageMaker::ProcessingJob',\n",
       "   'CandidateStepArn': 'arn:aws:sagemaker:us-west-2:032934710550:processing-job/db-1-7fdc27b3a5c74ea0934c0a3ba3e0d78691051828a86f426db3518f1b4b',\n",
       "   'CandidateStepName': 'db-1-7fdc27b3a5c74ea0934c0a3ba3e0d78691051828a86f426db3518f1b4b'},\n",
       "  {'CandidateStepType': 'AWS::SageMaker::TrainingJob',\n",
       "   'CandidateStepArn': 'arn:aws:sagemaker:us-west-2:032934710550:training-job/automl-dm--dpp0-1-95297f77940f48bd866207158fe5371ae750030642854',\n",
       "   'CandidateStepName': 'automl-dm--dpp0-1-95297f77940f48bd866207158fe5371ae750030642854'},\n",
       "  {'CandidateStepType': 'AWS::SageMaker::TransformJob',\n",
       "   'CandidateStepArn': 'arn:aws:sagemaker:us-west-2:032934710550:transform-job/automl-dm--dpp0-rpb-1-9068e8f52f454fbbb3e702e918e3c596e703f0e63',\n",
       "   'CandidateStepName': 'automl-dm--dpp0-rpb-1-9068e8f52f454fbbb3e702e918e3c596e703f0e63'},\n",
       "  {'CandidateStepType': 'AWS::SageMaker::TrainingJob',\n",
       "   'CandidateStepArn': 'arn:aws:sagemaker:us-west-2:032934710550:training-job/tuning-job-1-47702b5469674627a8-003-b1fdce6a',\n",
       "   'CandidateStepName': 'tuning-job-1-47702b5469674627a8-003-b1fdce6a'}],\n",
       " 'CandidateStatus': 'Completed',\n",
       " 'InferenceContainers': [{'Image': '246618743249.dkr.ecr.us-west-2.amazonaws.com/sagemaker-sklearn-automl:0.1.0-cpu-py3',\n",
       "   'ModelDataUrl': 's3://sagemaker-us-west-2-032934710550/models/autopilot/automl-dm-22-16-07-22/data-processor-models/automl-dm--dpp0-1-95297f77940f48bd866207158fe5371ae750030642854/output/model.tar.gz',\n",
       "   'Environment': {'AUTOML_SPARSE_ENCODE_RECORDIO_PROTOBUF': '1',\n",
       "    'AUTOML_TRANSFORM_MODE': 'feature-transform',\n",
       "    'SAGEMAKER_DEFAULT_INVOCATIONS_ACCEPT': 'application/x-recordio-protobuf',\n",
       "    'SAGEMAKER_PROGRAM': 'sagemaker_serve',\n",
       "    'SAGEMAKER_SUBMIT_DIRECTORY': '/opt/ml/model/sagemaker_serve.py'}},\n",
       "  {'Image': '246618743249.dkr.ecr.us-west-2.amazonaws.com/sagemaker-xgboost:1.0-1-cpu-py3',\n",
       "   'ModelDataUrl': 's3://sagemaker-us-west-2-032934710550/models/autopilot/automl-dm-22-16-07-22/tuning/automl-dm--dpp0-xgb/tuning-job-1-47702b5469674627a8-003-b1fdce6a/output/model.tar.gz',\n",
       "   'Environment': {'MAX_CONTENT_LENGTH': '20971520',\n",
       "    'SAGEMAKER_DEFAULT_INVOCATIONS_ACCEPT': 'text/csv',\n",
       "    'SAGEMAKER_INFERENCE_OUTPUT': 'predicted_label',\n",
       "    'SAGEMAKER_INFERENCE_SUPPORTED': 'predicted_label,probability,probabilities'}},\n",
       "  {'Image': '246618743249.dkr.ecr.us-west-2.amazonaws.com/sagemaker-sklearn-automl:0.1.0-cpu-py3',\n",
       "   'ModelDataUrl': 's3://sagemaker-us-west-2-032934710550/models/autopilot/automl-dm-22-16-07-22/data-processor-models/automl-dm--dpp0-1-95297f77940f48bd866207158fe5371ae750030642854/output/model.tar.gz',\n",
       "   'Environment': {'AUTOML_TRANSFORM_MODE': 'inverse-label-transform',\n",
       "    'SAGEMAKER_DEFAULT_INVOCATIONS_ACCEPT': 'text/csv',\n",
       "    'SAGEMAKER_INFERENCE_INPUT': 'predicted_label',\n",
       "    'SAGEMAKER_INFERENCE_OUTPUT': 'predicted_label',\n",
       "    'SAGEMAKER_INFERENCE_SUPPORTED': 'predicted_label,probability,labels,probabilities',\n",
       "    'SAGEMAKER_PROGRAM': 'sagemaker_serve',\n",
       "    'SAGEMAKER_SUBMIT_DIRECTORY': '/opt/ml/model/sagemaker_serve.py'}}],\n",
       " 'CreationTime': datetime.datetime(2020, 8, 22, 16, 27, 15, tzinfo=tzlocal()),\n",
       " 'EndTime': datetime.datetime(2020, 8, 22, 16, 28, 5, tzinfo=tzlocal()),\n",
       " 'LastModifiedTime': datetime.datetime(2020, 8, 22, 16, 28, 42, 829000, tzinfo=tzlocal())}"
      ]
     },
     "execution_count": 30,
     "metadata": {},
     "output_type": "execute_result"
    }
   ],
   "source": [
    "best_candidate"
   ]
  },
  {
   "cell_type": "markdown",
   "metadata": {},
   "source": [
    "We can see the containers and models composing the Inference Pipeline."
   ]
  },
  {
   "cell_type": "code",
   "execution_count": 31,
   "metadata": {},
   "outputs": [
    {
     "name": "stdout",
     "output_type": "stream",
     "text": [
      "246618743249.dkr.ecr.us-west-2.amazonaws.com/sagemaker-sklearn-automl:0.1.0-cpu-py3\n",
      "s3://sagemaker-us-west-2-032934710550/models/autopilot/automl-dm-22-16-07-22/data-processor-models/automl-dm--dpp0-1-95297f77940f48bd866207158fe5371ae750030642854/output/model.tar.gz\n",
      "======================\n",
      "246618743249.dkr.ecr.us-west-2.amazonaws.com/sagemaker-xgboost:1.0-1-cpu-py3\n",
      "s3://sagemaker-us-west-2-032934710550/models/autopilot/automl-dm-22-16-07-22/tuning/automl-dm--dpp0-xgb/tuning-job-1-47702b5469674627a8-003-b1fdce6a/output/model.tar.gz\n",
      "======================\n",
      "246618743249.dkr.ecr.us-west-2.amazonaws.com/sagemaker-sklearn-automl:0.1.0-cpu-py3\n",
      "s3://sagemaker-us-west-2-032934710550/models/autopilot/automl-dm-22-16-07-22/data-processor-models/automl-dm--dpp0-1-95297f77940f48bd866207158fe5371ae750030642854/output/model.tar.gz\n",
      "======================\n"
     ]
    }
   ],
   "source": [
    "if not bool(best_candidate):\n",
    "    print('STOP: Autopilot Job did NOT finish correctly. Please re-run the notebook from start.')\n",
    "elif 'InferenceContainers' not in best_candidate:\n",
    "    print('STOP: Autopilot Job did NOT finish correctly. Please re-run the notebook from start.')\n",
    "else:\n",
    "    for container in best_candidate['InferenceContainers']:\n",
    "        print(container['Image'])\n",
    "        print(container['ModelDataUrl'])\n",
    "        print('======================')\n"
   ]
  },
  {
   "cell_type": "markdown",
   "metadata": {},
   "source": [
    "# Autopilot Chooses XGBoost as Best Candidate!\n",
    "\n",
    "Note that Autopilot chose different hyper-parameters and feature transformations than we used in our own XGBoost model."
   ]
  },
  {
   "cell_type": "markdown",
   "metadata": {},
   "source": [
    "# Deploy the Model as a REST Endpoint\n",
    "Batch transformations are also supported, but for now, we will use a REST Endpoint."
   ]
  },
  {
   "cell_type": "code",
   "execution_count": 32,
   "metadata": {},
   "outputs": [
    {
     "name": "stdout",
     "output_type": "stream",
     "text": [
      "Best candidate model ARN:  arn:aws:sagemaker:us-west-2:032934710550:model/automl-dm-model-22-16-07-22\n"
     ]
    }
   ],
   "source": [
    "model_name = 'automl-dm-model-' + timestamp_suffix\n",
    "\n",
    "model_arn = sm.create_model(Containers=best_candidate['InferenceContainers'],\n",
    "                            ModelName=model_name,\n",
    "                            ExecutionRoleArn=role)\n",
    "\n",
    "print('Best candidate model ARN: ', model_arn['ModelArn'])"
   ]
  },
  {
   "cell_type": "code",
   "execution_count": 33,
   "metadata": {},
   "outputs": [
    {
     "name": "stdout",
     "output_type": "stream",
     "text": [
      "automl-dm-ep-22-16-29-20\n",
      "automl-dm-variant-22-16-29-20\n"
     ]
    }
   ],
   "source": [
    "# EndpointConfig name\n",
    "timestamp_suffix = strftime('%d-%H-%M-%S', gmtime())\n",
    "epc_name = 'automl-dm-epc-' + timestamp_suffix\n",
    "\n",
    "# Endpoint name\n",
    "autopilot_endpoint_name = 'automl-dm-ep-' + timestamp_suffix\n",
    "variant_name = 'automl-dm-variant-' + timestamp_suffix\n",
    "\n",
    "print(autopilot_endpoint_name)\n",
    "print(variant_name)"
   ]
  },
  {
   "cell_type": "code",
   "execution_count": 34,
   "metadata": {},
   "outputs": [],
   "source": [
    "ep_config = sm.create_endpoint_config(EndpointConfigName = epc_name,\n",
    "                                      ProductionVariants=[{'InstanceType':'ml.m5.large',\n",
    "                                                           'InitialInstanceCount': 1,\n",
    "                                                           'ModelName': model_name,\n",
    "                                                           'VariantName': variant_name}])\n"
   ]
  },
  {
   "cell_type": "code",
   "execution_count": 35,
   "metadata": {},
   "outputs": [
    {
     "name": "stdout",
     "output_type": "stream",
     "text": [
      "arn:aws:sagemaker:us-west-2:032934710550:endpoint/automl-dm-ep-22-16-29-20\n"
     ]
    }
   ],
   "source": [
    "create_endpoint_response = sm.create_endpoint(EndpointName=autopilot_endpoint_name,\n",
    "                                              EndpointConfigName=epc_name)\n",
    "print(create_endpoint_response['EndpointArn'])"
   ]
  },
  {
   "cell_type": "markdown",
   "metadata": {},
   "source": [
    "# Wait for the Model to Deploy\n",
    "This may take 5-10 mins.  Please be patient."
   ]
  },
  {
   "cell_type": "code",
   "execution_count": 36,
   "metadata": {},
   "outputs": [],
   "source": [
    "sm.get_waiter('endpoint_in_service').wait(EndpointName=autopilot_endpoint_name)\n"
   ]
  },
  {
   "cell_type": "code",
   "execution_count": 37,
   "metadata": {},
   "outputs": [
    {
     "name": "stdout",
     "output_type": "stream",
     "text": [
      "Arn: arn:aws:sagemaker:us-west-2:032934710550:endpoint/automl-dm-ep-22-16-29-20\n",
      "Status: InService\n"
     ]
    }
   ],
   "source": [
    "resp = sm.describe_endpoint(EndpointName=autopilot_endpoint_name)\n",
    "status = resp['EndpointStatus']\n",
    "\n",
    "print(\"Arn: \" + resp['EndpointArn'])\n",
    "print(\"Status: \" + status)"
   ]
  },
  {
   "cell_type": "markdown",
   "metadata": {},
   "source": [
    "# Test Our Model with Some Example Reviews\n",
    "Let's do some ad-hoc predictions on our model."
   ]
  },
  {
   "cell_type": "code",
   "execution_count": 38,
   "metadata": {},
   "outputs": [],
   "source": [
    "sm_runtime = boto3.client('sagemaker-runtime')"
   ]
  },
  {
   "cell_type": "code",
   "execution_count": 39,
   "metadata": {},
   "outputs": [
    {
     "data": {
      "text/plain": [
       "'5'"
      ]
     },
     "execution_count": 39,
     "metadata": {},
     "output_type": "execute_result"
    }
   ],
   "source": [
    "csv_line_predict_positive = \"\"\"I loved it!\"\"\"\n",
    "\n",
    "response = sm_runtime.invoke_endpoint(EndpointName=autopilot_endpoint_name, ContentType='text/csv', Accept='text/csv', Body=csv_line_predict_positive)\n",
    "\n",
    "response_body = response['Body'].read().decode('utf-8').strip()\n",
    "response_body"
   ]
  },
  {
   "cell_type": "code",
   "execution_count": 40,
   "metadata": {},
   "outputs": [
    {
     "data": {
      "text/plain": [
       "'3'"
      ]
     },
     "execution_count": 40,
     "metadata": {},
     "output_type": "execute_result"
    }
   ],
   "source": [
    "csv_line_predict_meh = \"\"\"It's OK.\"\"\"\n",
    "\n",
    "response = sm_runtime.invoke_endpoint(EndpointName=autopilot_endpoint_name, ContentType='text/csv', Accept='text/csv', Body=csv_line_predict_meh)\n",
    "\n",
    "response_body = response['Body'].read().decode('utf-8').strip()\n",
    "response_body"
   ]
  },
  {
   "cell_type": "code",
   "execution_count": 41,
   "metadata": {
    "scrolled": true
   },
   "outputs": [
    {
     "data": {
      "text/plain": [
       "'5'"
      ]
     },
     "execution_count": 41,
     "metadata": {},
     "output_type": "execute_result"
    }
   ],
   "source": [
    "csv_line_predict_negative = \"\"\"The worst product ever.\"\"\"\n",
    "\n",
    "response = sm_runtime.invoke_endpoint(EndpointName=autopilot_endpoint_name, ContentType='text/csv', Accept='text/csv', Body=csv_line_predict_negative)\n",
    "\n",
    "response_body = response['Body'].read().decode('utf-8').strip()\n",
    "response_body"
   ]
  },
  {
   "cell_type": "code",
   "execution_count": 42,
   "metadata": {},
   "outputs": [
    {
     "name": "stdout",
     "output_type": "stream",
     "text": [
      "Stored 'autopilot_endpoint_name' (str)\n"
     ]
    }
   ],
   "source": [
    "%store autopilot_endpoint_name"
   ]
  },
  {
   "cell_type": "code",
   "execution_count": 43,
   "metadata": {
    "scrolled": true
   },
   "outputs": [
    {
     "name": "stdout",
     "output_type": "stream",
     "text": [
      "Stored variables and their in-db values:\n",
      "autopilot_endpoint_name             -> 'automl-dm-ep-22-16-29-20'\n",
      "header_train_s3_uri                 -> 's3://sagemaker-us-west-2-032934710550/data/amazon\n",
      "noheader_train_s3_uri               -> 's3://sagemaker-us-west-2-032934710550/data/amazon\n"
     ]
    }
   ],
   "source": [
    "%store"
   ]
  },
  {
   "cell_type": "code",
   "execution_count": null,
   "metadata": {},
   "outputs": [],
   "source": [
    "%%javascript\n",
    "Jupyter.notebook.save_checkpoint();\n",
    "Jupyter.notebook.session.delete();"
   ]
  },
  {
   "cell_type": "markdown",
   "metadata": {},
   "source": [
    "# Summary\n",
    "We used Autopilot to automatically find the best model, hyper-parameters, and feature-engineering scripts for our dataset.  \n",
    "\n",
    "Autopilot uses a white-box approach to generate re-usable exploration Jupyter Notebooks and transformation Python scripts to continue to train and deploy our model on new data - well after this initial interaction with the Autopilot service."
   ]
  },
  {
   "cell_type": "code",
   "execution_count": null,
   "metadata": {},
   "outputs": [],
   "source": []
  }
 ],
 "metadata": {
  "kernelspec": {
   "display_name": "conda_python3",
   "language": "python",
   "name": "conda_python3"
  },
  "language_info": {
   "codemirror_mode": {
    "name": "ipython",
    "version": 3
   },
   "file_extension": ".py",
   "mimetype": "text/x-python",
   "name": "python",
   "nbconvert_exporter": "python",
   "pygments_lexer": "ipython3",
   "version": "3.6.10"
  }
 },
 "nbformat": 4,
 "nbformat_minor": 4
}
