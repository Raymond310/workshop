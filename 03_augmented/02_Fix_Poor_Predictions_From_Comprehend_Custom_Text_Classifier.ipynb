{
 "cells": [
  {
   "cell_type": "markdown",
   "metadata": {},
   "source": [
    "# Fix Poor Predictions from Comprehend Custom Text Classifier"
   ]
  },
  {
   "cell_type": "code",
   "execution_count": 11,
   "metadata": {},
   "outputs": [],
   "source": [
    "import boto3\n",
    "import sagemaker\n",
    "import pandas as pd\n",
    "\n",
    "sess   = sagemaker.Session()\n",
    "bucket = sess.default_bucket()\n",
    "role = sagemaker.get_execution_role()\n",
    "region = boto3.Session().region_name"
   ]
  },
  {
   "cell_type": "code",
   "execution_count": 12,
   "metadata": {},
   "outputs": [],
   "source": [
    "import io\n",
    "import json\n",
    "import uuid\n",
    "import time\n",
    "import boto3\n",
    "import botocore\n",
    "\n",
    "# Amazon Python SDK clients\n",
    "sagemaker = boto3.client('sagemaker', region)\n",
    "comprehend = boto3.client('comprehend', region)\n",
    "a2i = boto3.client('sagemaker-a2i-runtime')\n",
    "s3 = boto3.client('s3', region)"
   ]
  },
  {
   "cell_type": "markdown",
   "metadata": {},
   "source": [
    "# Retrieve the `augmented_ai_flow_definition_arn` Created Previously"
   ]
  },
  {
   "cell_type": "code",
   "execution_count": 13,
   "metadata": {},
   "outputs": [],
   "source": [
    "%store -r augmented_ai_flow_definition_arn"
   ]
  },
  {
   "cell_type": "code",
   "execution_count": 14,
   "metadata": {},
   "outputs": [
    {
     "name": "stdout",
     "output_type": "stream",
     "text": [
      "arn:aws:sagemaker:us-west-2:032934710550:flow-definition/fd-dsoaws-comprehend-d396f583-deed-43f0-a198-286fffb30c3e\n"
     ]
    }
   ],
   "source": [
    "print(augmented_ai_flow_definition_arn)"
   ]
  },
  {
   "cell_type": "markdown",
   "metadata": {},
   "source": [
    "# _Wait for the Comprehend Job to Complete from the Previous Section_"
   ]
  },
  {
   "cell_type": "markdown",
   "metadata": {},
   "source": [
    "# Retrieve the `comprehend_endpoint_arn` Deployed Previously"
   ]
  },
  {
   "cell_type": "code",
   "execution_count": 15,
   "metadata": {},
   "outputs": [],
   "source": [
    "%store -r comprehend_endpoint_arn"
   ]
  },
  {
   "cell_type": "code",
   "execution_count": 16,
   "metadata": {
    "scrolled": true
   },
   "outputs": [],
   "source": [
    "try: \n",
    "    comprehend_endpoint_arn\n",
    "except NameError:\n",
    "    print('*** PLEASE WAIT FOR THE Comprehend JOB TO FINISH IN THE PREVIOUS SECTION BEFORE CONTINUING ***')\n",
    "    print('*** YOU WILL NEED TO RESTART THIS NOTEBOOK ONCE THE JOB FINISHES ***')"
   ]
  },
  {
   "cell_type": "code",
   "execution_count": 17,
   "metadata": {},
   "outputs": [
    {
     "name": "stdout",
     "output_type": "stream",
     "text": [
      "arn:aws:comprehend:us-west-2:032934710550:document-classifier-endpoint/comprehend-inference-ep-22-18-13-36\n"
     ]
    }
   ],
   "source": [
    "print(comprehend_endpoint_arn)"
   ]
  },
  {
   "cell_type": "markdown",
   "metadata": {},
   "source": [
    "# Check the Confidence Score for Each Comprehend Prediction\n",
    "If < threshold, start the human loop.  You can integrate this type of logic into your application using the SDK.  In this case, we're using the Python SDK."
   ]
  },
  {
   "cell_type": "markdown",
   "metadata": {},
   "source": [
    "# Use Comprehend to Predict Some Sample Reviews"
   ]
  },
  {
   "cell_type": "code",
   "execution_count": 18,
   "metadata": {},
   "outputs": [],
   "source": [
    "sample_reviews = [\n",
    "                  'I enjoy this product', \n",
    "                  'I am unhappy with this product', \n",
    "                  'It is okay', \n",
    "                  'sometimes it works'\n",
    "                 ]"
   ]
  },
  {
   "cell_type": "markdown",
   "metadata": {},
   "source": [
    "# Start a Human Loop When Comprehend Does Not Produce a Confident Prediction\n",
    "The human lmoop will engage our workforce for human review if the confidence of the Comprehend prediction is less than the provided confidence.\n",
    "\n",
    "![](img/augmented-ai-comprehend-predictions.png)"
   ]
  },
  {
   "cell_type": "code",
   "execution_count": 19,
   "metadata": {},
   "outputs": [
    {
     "name": "stdout",
     "output_type": "stream",
     "text": [
      "Processing sample_review: \"I enjoy this product\"\n",
      "Confidence score of 0.3887999951839447 for star rating of 5 is less than the threshold of 0.9\n",
      "*** ==> Starting human loop with name: 21bc7985-446d-4e12-8f09-1fa273b3a214  \n",
      "\n",
      "Processing sample_review: \"I am unhappy with this product\"\n",
      "Confidence score of 0.4156000018119812 for star rating of 1 is less than the threshold of 0.9\n",
      "*** ==> Starting human loop with name: 8faac08a-4bd5-4e1f-af59-faf125292468  \n",
      "\n",
      "Processing sample_review: \"It is okay\"\n",
      "Confidence score of 0.4462999999523163 for star rating of 3 is less than the threshold of 0.9\n",
      "*** ==> Starting human loop with name: 3210fe4c-139b-45b9-bc4c-ee5e8e14919f  \n",
      "\n",
      "Processing sample_review: \"sometimes it works\"\n",
      "Confidence score of 0.42089998722076416 for star rating of 4 is less than the threshold of 0.9\n",
      "*** ==> Starting human loop with name: 06beb809-6e92-4b5a-bb16-38ad7cd34593  \n",
      "\n"
     ]
    }
   ],
   "source": [
    "human_loops_started = []\n",
    "\n",
    "CONFIDENCE_SCORE_THRESHOLD = 0.90\n",
    "\n",
    "for sample_review in sample_reviews:\n",
    "    # Call the Comprehend Custom model that we trained earlier\n",
    "    response = comprehend.classify_document(Text=sample_review, \n",
    "                                            EndpointArn=comprehend_endpoint_arn)\n",
    "\n",
    "    star_rating = response['Classes'][0]['Name']\n",
    "    confidence_score = response['Classes'][0]['Score']\n",
    "    \n",
    "    print(f'Processing sample_review: \\\"{sample_review}\\\"')\n",
    "    \n",
    "    # Our condition for when we want to engage a human for review\n",
    "    if (confidence_score < CONFIDENCE_SCORE_THRESHOLD):\n",
    "    \n",
    "        humanLoopName = str(uuid.uuid4())\n",
    "        inputContent = {\n",
    "            'initialValue': star_rating,\n",
    "            'taskObject': sample_review\n",
    "        }\n",
    "        start_loop_response = a2i.start_human_loop(\n",
    "            HumanLoopName=humanLoopName,\n",
    "            FlowDefinitionArn=augmented_ai_flow_definition_arn,\n",
    "            HumanLoopInput={\n",
    "                'InputContent': json.dumps(inputContent)\n",
    "            }\n",
    "        )\n",
    "\n",
    "        human_loops_started.append(humanLoopName)\n",
    "\n",
    "        print(f'Confidence score of {confidence_score} for star rating of {star_rating} is less than the threshold of {CONFIDENCE_SCORE_THRESHOLD}')\n",
    "        print(f'*** ==> Starting human loop with name: {humanLoopName}  \\n')\n",
    "    else:\n",
    "        print(f'Confidence score of {confidence_score} for star rating of {star_rating} is above threshold of {CONFIDENCE_SCORE_THRESHOLD}')\n",
    "        print('No human loop created. \\n')"
   ]
  },
  {
   "cell_type": "markdown",
   "metadata": {},
   "source": [
    "# Check Status of Human Loop"
   ]
  },
  {
   "cell_type": "code",
   "execution_count": 20,
   "metadata": {},
   "outputs": [
    {
     "name": "stdout",
     "output_type": "stream",
     "text": [
      "HumanLoop Name: 21bc7985-446d-4e12-8f09-1fa273b3a214\n",
      "HumanLoop Status: InProgress\n",
      "HumanLoop Output Destination: {'OutputS3Uri': 's3://sagemaker-us-west-2-032934710550/a2i-comprehend-star-rating-results/fd-dsoaws-comprehend-d396f583-deed-43f0-a198-286fffb30c3e/2020/08/22/18/22/30/21bc7985-446d-4e12-8f09-1fa273b3a214/output.json'}\n",
      "\n",
      "HumanLoop Name: 8faac08a-4bd5-4e1f-af59-faf125292468\n",
      "HumanLoop Status: InProgress\n",
      "HumanLoop Output Destination: {'OutputS3Uri': 's3://sagemaker-us-west-2-032934710550/a2i-comprehend-star-rating-results/fd-dsoaws-comprehend-d396f583-deed-43f0-a198-286fffb30c3e/2020/08/22/18/22/30/8faac08a-4bd5-4e1f-af59-faf125292468/output.json'}\n",
      "\n",
      "HumanLoop Name: 3210fe4c-139b-45b9-bc4c-ee5e8e14919f\n",
      "HumanLoop Status: InProgress\n",
      "HumanLoop Output Destination: {'OutputS3Uri': 's3://sagemaker-us-west-2-032934710550/a2i-comprehend-star-rating-results/fd-dsoaws-comprehend-d396f583-deed-43f0-a198-286fffb30c3e/2020/08/22/18/22/30/3210fe4c-139b-45b9-bc4c-ee5e8e14919f/output.json'}\n",
      "\n",
      "HumanLoop Name: 06beb809-6e92-4b5a-bb16-38ad7cd34593\n",
      "HumanLoop Status: InProgress\n",
      "HumanLoop Output Destination: {'OutputS3Uri': 's3://sagemaker-us-west-2-032934710550/a2i-comprehend-star-rating-results/fd-dsoaws-comprehend-d396f583-deed-43f0-a198-286fffb30c3e/2020/08/22/18/22/30/06beb809-6e92-4b5a-bb16-38ad7cd34593/output.json'}\n",
      "\n"
     ]
    }
   ],
   "source": [
    "completed_human_loops = []\n",
    "for human_loop_name in human_loops_started:\n",
    "    resp = a2i.describe_human_loop(HumanLoopName=human_loop_name)\n",
    "    print(f'HumanLoop Name: {human_loop_name}')\n",
    "    print(f'HumanLoop Status: {resp[\"HumanLoopStatus\"]}')\n",
    "    print(f'HumanLoop Output Destination: {resp[\"HumanLoopOutput\"]}')\n",
    "    print('')\n",
    "        \n",
    "    if resp['HumanLoopStatus'] == 'Completed':\n",
    "        completed_human_loops.append(resp)"
   ]
  },
  {
   "cell_type": "markdown",
   "metadata": {},
   "source": [
    "# Wait For Workers to Complete Their Human Loop Tasks\n",
    "\n",
    "Navigate to the link below and login with your email and password that you used when you set up the Private Workforce."
   ]
  },
  {
   "cell_type": "code",
   "execution_count": 21,
   "metadata": {},
   "outputs": [],
   "source": [
    "%store -r augmented_ai_workteam_arn"
   ]
  },
  {
   "cell_type": "code",
   "execution_count": 22,
   "metadata": {},
   "outputs": [
    {
     "name": "stdout",
     "output_type": "stream",
     "text": [
      "arn:aws:sagemaker:us-west-2:032934710550:workteam/private-crowd/dsoaws\n"
     ]
    }
   ],
   "source": [
    "print(augmented_ai_workteam_arn)"
   ]
  },
  {
   "cell_type": "code",
   "execution_count": 23,
   "metadata": {},
   "outputs": [
    {
     "name": "stdout",
     "output_type": "stream",
     "text": [
      "dsoaws\n",
      "Navigate to the private worker portal and complete the human loop.\n",
      "Make sure you have invited yourself to the workteam and received the signup email.\n",
      "Note:  Check your spam filter if you have not received the email.\n",
      "\n",
      "https://65u72v6gtb.labeling.us-west-2.sagemaker.aws\n"
     ]
    }
   ],
   "source": [
    "workteam_name = augmented_ai_workteam_arn[augmented_ai_workteam_arn.rfind('/') + 1:]\n",
    "print(workteam_name)\n",
    "print('Navigate to the private worker portal and complete the human loop.')\n",
    "print('Make sure you have invited yourself to the workteam and received the signup email.')\n",
    "print('Note:  Check your spam filter if you have not received the email.')\n",
    "print('')\n",
    "print('https://' + sagemaker.describe_workteam(WorkteamName=workteam_name)['Workteam']['SubDomain'])"
   ]
  },
  {
   "cell_type": "markdown",
   "metadata": {},
   "source": [
    "# Start Labeling\n",
    "\n",
    "<img src=\"img/augmented-comprehend-custom-start-working.png\" width=\"80%\" align=\"left\">"
   ]
  },
  {
   "cell_type": "markdown",
   "metadata": {},
   "source": [
    "# Select Label\n",
    "\n",
    "<img src=\"img/augmented-comprehend-custom-select-label.png\" width=\"80%\" align=\"left\">"
   ]
  },
  {
   "cell_type": "markdown",
   "metadata": {},
   "source": [
    "# Loop is Completed\n",
    "\n",
    "<img src=\"img/augmented-comprehend-custom-finished-task.png\" width=\"80%\" align=\"left\">"
   ]
  },
  {
   "cell_type": "markdown",
   "metadata": {},
   "source": [
    "# Verify the Human Loops are Completed"
   ]
  },
  {
   "cell_type": "code",
   "execution_count": 24,
   "metadata": {},
   "outputs": [
    {
     "name": "stdout",
     "output_type": "stream",
     "text": [
      "HumanLoop Name: 21bc7985-446d-4e12-8f09-1fa273b3a214\n",
      "HumanLoop Status: InProgress\n",
      "HumanLoop Output Destination: {'OutputS3Uri': 's3://sagemaker-us-west-2-032934710550/a2i-comprehend-star-rating-results/fd-dsoaws-comprehend-d396f583-deed-43f0-a198-286fffb30c3e/2020/08/22/18/22/30/21bc7985-446d-4e12-8f09-1fa273b3a214/output.json'}\n",
      "\n",
      "Waiting for HumanLoop to complete.\n",
      "Waiting for HumanLoop to complete.\n",
      "Waiting for HumanLoop to complete.\n",
      "Waiting for HumanLoop to complete.\n",
      "Completed!\n",
      "\n",
      "HumanLoop Name: 8faac08a-4bd5-4e1f-af59-faf125292468\n",
      "HumanLoop Status: InProgress\n",
      "HumanLoop Output Destination: {'OutputS3Uri': 's3://sagemaker-us-west-2-032934710550/a2i-comprehend-star-rating-results/fd-dsoaws-comprehend-d396f583-deed-43f0-a198-286fffb30c3e/2020/08/22/18/22/30/8faac08a-4bd5-4e1f-af59-faf125292468/output.json'}\n",
      "\n",
      "Waiting for HumanLoop to complete.\n",
      "Completed!\n",
      "\n",
      "HumanLoop Name: 3210fe4c-139b-45b9-bc4c-ee5e8e14919f\n",
      "HumanLoop Status: Completed\n",
      "HumanLoop Output Destination: {'OutputS3Uri': 's3://sagemaker-us-west-2-032934710550/a2i-comprehend-star-rating-results/fd-dsoaws-comprehend-d396f583-deed-43f0-a198-286fffb30c3e/2020/08/22/18/22/30/3210fe4c-139b-45b9-bc4c-ee5e8e14919f/output.json'}\n",
      "\n",
      "Completed!\n",
      "\n",
      "HumanLoop Name: 06beb809-6e92-4b5a-bb16-38ad7cd34593\n",
      "HumanLoop Status: Completed\n",
      "HumanLoop Output Destination: {'OutputS3Uri': 's3://sagemaker-us-west-2-032934710550/a2i-comprehend-star-rating-results/fd-dsoaws-comprehend-d396f583-deed-43f0-a198-286fffb30c3e/2020/08/22/18/22/30/06beb809-6e92-4b5a-bb16-38ad7cd34593/output.json'}\n",
      "\n",
      "Completed!\n",
      "\n"
     ]
    }
   ],
   "source": [
    "import time\n",
    "\n",
    "completed_human_loops = []\n",
    "for human_loop_name in human_loops_started:\n",
    "    resp = a2i.describe_human_loop(HumanLoopName=human_loop_name)\n",
    "    print(f'HumanLoop Name: {human_loop_name}')\n",
    "    print(f'HumanLoop Status: {resp[\"HumanLoopStatus\"]}')\n",
    "    print(f'HumanLoop Output Destination: {resp[\"HumanLoopOutput\"]}')\n",
    "    print('')\n",
    "    while resp[\"HumanLoopStatus\"] != \"Completed\":\n",
    "        print(f'Waiting for HumanLoop to complete.')  \n",
    "        time.sleep(10)\n",
    "        resp = a2i.describe_human_loop(HumanLoopName=human_loop_name)\n",
    "    if resp[\"HumanLoopStatus\"] == \"Completed\":\n",
    "        completed_human_loops.append(resp)\n",
    "        print(f'Completed!')\n",
    "        print('')"
   ]
  },
  {
   "cell_type": "markdown",
   "metadata": {},
   "source": [
    "# View Human Labels  "
   ]
  },
  {
   "cell_type": "markdown",
   "metadata": {},
   "source": [
    "Once the work is complete, Amazon A2I stores the results in the specified S3 bucket and sends a Cloudwatch Event.  Let's check the S3 contents."
   ]
  },
  {
   "cell_type": "code",
   "execution_count": 25,
   "metadata": {
    "scrolled": true
   },
   "outputs": [
    {
     "name": "stdout",
     "output_type": "stream",
     "text": [
      "{'flowDefinitionArn': 'arn:aws:sagemaker:us-west-2:032934710550:flow-definition/fd-dsoaws-comprehend-d396f583-deed-43f0-a198-286fffb30c3e', 'humanAnswers': [{'answerContent': {'star_rating': {'label': '5'}}, 'submissionTime': '2020-08-22T18:23:03.664Z', 'workerId': '2fe1fbc789375c43', 'workerMetadata': {'identityData': {'identityProviderType': 'Cognito', 'issuer': 'https://cognito-idp.us-west-2.amazonaws.com/us-west-2_Un0GovN9y', 'sub': 'c26c3601-857d-40ea-bc05-a7f3a432f72c'}}}], 'humanLoopName': '21bc7985-446d-4e12-8f09-1fa273b3a214', 'inputContent': {'initialValue': '5', 'taskObject': 'I enjoy this product'}}\n",
      "{'flowDefinitionArn': 'arn:aws:sagemaker:us-west-2:032934710550:flow-definition/fd-dsoaws-comprehend-d396f583-deed-43f0-a198-286fffb30c3e', 'humanAnswers': [{'answerContent': {'star_rating': {'label': '1'}}, 'submissionTime': '2020-08-22T18:23:12.285Z', 'workerId': '2fe1fbc789375c43', 'workerMetadata': {'identityData': {'identityProviderType': 'Cognito', 'issuer': 'https://cognito-idp.us-west-2.amazonaws.com/us-west-2_Un0GovN9y', 'sub': 'c26c3601-857d-40ea-bc05-a7f3a432f72c'}}}], 'humanLoopName': '8faac08a-4bd5-4e1f-af59-faf125292468', 'inputContent': {'initialValue': '1', 'taskObject': 'I am unhappy with this product'}}\n",
      "{'flowDefinitionArn': 'arn:aws:sagemaker:us-west-2:032934710550:flow-definition/fd-dsoaws-comprehend-d396f583-deed-43f0-a198-286fffb30c3e', 'humanAnswers': [{'answerContent': {'star_rating': {'label': '3'}}, 'submissionTime': '2020-08-22T18:23:06.577Z', 'workerId': '2fe1fbc789375c43', 'workerMetadata': {'identityData': {'identityProviderType': 'Cognito', 'issuer': 'https://cognito-idp.us-west-2.amazonaws.com/us-west-2_Un0GovN9y', 'sub': 'c26c3601-857d-40ea-bc05-a7f3a432f72c'}}}], 'humanLoopName': '3210fe4c-139b-45b9-bc4c-ee5e8e14919f', 'inputContent': {'initialValue': '3', 'taskObject': 'It is okay'}}\n",
      "{'flowDefinitionArn': 'arn:aws:sagemaker:us-west-2:032934710550:flow-definition/fd-dsoaws-comprehend-d396f583-deed-43f0-a198-286fffb30c3e', 'humanAnswers': [{'answerContent': {'star_rating': {'label': '3'}}, 'submissionTime': '2020-08-22T18:23:20.730Z', 'workerId': '2fe1fbc789375c43', 'workerMetadata': {'identityData': {'identityProviderType': 'Cognito', 'issuer': 'https://cognito-idp.us-west-2.amazonaws.com/us-west-2_Un0GovN9y', 'sub': 'c26c3601-857d-40ea-bc05-a7f3a432f72c'}}}], 'humanLoopName': '06beb809-6e92-4b5a-bb16-38ad7cd34593', 'inputContent': {'initialValue': '4', 'taskObject': 'sometimes it works'}}\n"
     ]
    }
   ],
   "source": [
    "import re\n",
    "import pprint\n",
    "\n",
    "pp = pprint.PrettyPrinter(indent=4)\n",
    "\n",
    "fixed_items = []\n",
    "\n",
    "for resp in completed_human_loops:\n",
    "    split_string = re.split('s3://' +  bucket + '/', resp['HumanLoopOutput']['OutputS3Uri'])\n",
    "    output_bucket_key = split_string[1]\n",
    "\n",
    "    response = s3.get_object(Bucket=bucket, Key=output_bucket_key)\n",
    "    content = response['Body'].read().decode('utf-8')\n",
    "    json_output = json.loads(content)\n",
    "    print(json_output)\n",
    "\n",
    "    input_content = json_output['inputContent']\n",
    "    human_answer = json_output['humanAnswers'][0]['answerContent']\n",
    "    fixed_item = {'input_content': input_content, 'human_answer': human_answer}\n",
    "    fixed_items.append(fixed_item)"
   ]
  },
  {
   "cell_type": "markdown",
   "metadata": {},
   "source": [
    "# Prepare the Data for Re-training"
   ]
  },
  {
   "cell_type": "code",
   "execution_count": 26,
   "metadata": {},
   "outputs": [],
   "source": [
    "df_fixed_items = pd.DataFrame(fixed_items)"
   ]
  },
  {
   "cell_type": "code",
   "execution_count": 27,
   "metadata": {},
   "outputs": [
    {
     "data": {
      "text/html": [
       "<div>\n",
       "<style scoped>\n",
       "    .dataframe tbody tr th:only-of-type {\n",
       "        vertical-align: middle;\n",
       "    }\n",
       "\n",
       "    .dataframe tbody tr th {\n",
       "        vertical-align: top;\n",
       "    }\n",
       "\n",
       "    .dataframe thead th {\n",
       "        text-align: right;\n",
       "    }\n",
       "</style>\n",
       "<table border=\"1\" class=\"dataframe\">\n",
       "  <thead>\n",
       "    <tr style=\"text-align: right;\">\n",
       "      <th></th>\n",
       "      <th>input_content</th>\n",
       "      <th>human_answer</th>\n",
       "    </tr>\n",
       "  </thead>\n",
       "  <tbody>\n",
       "    <tr>\n",
       "      <th>0</th>\n",
       "      <td>{'initialValue': '5', 'taskObject': 'I enjoy t...</td>\n",
       "      <td>{'star_rating': {'label': '5'}}</td>\n",
       "    </tr>\n",
       "    <tr>\n",
       "      <th>1</th>\n",
       "      <td>{'initialValue': '1', 'taskObject': 'I am unha...</td>\n",
       "      <td>{'star_rating': {'label': '1'}}</td>\n",
       "    </tr>\n",
       "    <tr>\n",
       "      <th>2</th>\n",
       "      <td>{'initialValue': '3', 'taskObject': 'It is okay'}</td>\n",
       "      <td>{'star_rating': {'label': '3'}}</td>\n",
       "    </tr>\n",
       "    <tr>\n",
       "      <th>3</th>\n",
       "      <td>{'initialValue': '4', 'taskObject': 'sometimes...</td>\n",
       "      <td>{'star_rating': {'label': '3'}}</td>\n",
       "    </tr>\n",
       "  </tbody>\n",
       "</table>\n",
       "</div>"
      ],
      "text/plain": [
       "                                       input_content  \\\n",
       "0  {'initialValue': '5', 'taskObject': 'I enjoy t...   \n",
       "1  {'initialValue': '1', 'taskObject': 'I am unha...   \n",
       "2  {'initialValue': '3', 'taskObject': 'It is okay'}   \n",
       "3  {'initialValue': '4', 'taskObject': 'sometimes...   \n",
       "\n",
       "                      human_answer  \n",
       "0  {'star_rating': {'label': '5'}}  \n",
       "1  {'star_rating': {'label': '1'}}  \n",
       "2  {'star_rating': {'label': '3'}}  \n",
       "3  {'star_rating': {'label': '3'}}  "
      ]
     },
     "execution_count": 27,
     "metadata": {},
     "output_type": "execute_result"
    }
   ],
   "source": [
    "df_fixed_items.head()"
   ]
  },
  {
   "cell_type": "markdown",
   "metadata": {},
   "source": [
    "# Once finished, delete the Comprehend Custom Model Endpoint"
   ]
  },
  {
   "cell_type": "code",
   "execution_count": 28,
   "metadata": {},
   "outputs": [],
   "source": [
    "# comprehend.delete_endpoint(EndpointArn=comprehend_endpoint_arn)"
   ]
  },
  {
   "cell_type": "code",
   "execution_count": null,
   "metadata": {},
   "outputs": [],
   "source": [
    "%%javascript\n",
    "Jupyter.notebook.save_checkpoint();\n",
    "Jupyter.notebook.session.delete();"
   ]
  }
 ],
 "metadata": {
  "kernelspec": {
   "display_name": "conda_python3",
   "language": "python",
   "name": "conda_python3"
  },
  "language_info": {
   "codemirror_mode": {
    "name": "ipython",
    "version": 3
   },
   "file_extension": ".py",
   "mimetype": "text/x-python",
   "name": "python",
   "nbconvert_exporter": "python",
   "pygments_lexer": "ipython3",
   "version": "3.6.10"
  }
 },
 "nbformat": 4,
 "nbformat_minor": 4
}
