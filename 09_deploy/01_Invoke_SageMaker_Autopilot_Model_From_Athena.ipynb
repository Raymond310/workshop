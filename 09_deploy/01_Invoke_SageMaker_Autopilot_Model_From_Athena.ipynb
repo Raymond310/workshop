{
 "cells": [
  {
   "cell_type": "markdown",
   "metadata": {},
   "source": [
    "# Invoke SageMaker Autopilot Model from Athena"
   ]
  },
  {
   "cell_type": "markdown",
   "metadata": {},
   "source": [
    "Machine Learning (ML) with Amazon Athena (Preview) lets you use Athena to write SQL statements that run Machine Learning (ML) inference using Amazon SageMaker. This feature simplifies access to ML models for data analysis, eliminating the need to use complex programming methods to run inference.\n",
    "\n",
    "To use ML with Athena (Preview), you define an ML with Athena (Preview) function with the `USING FUNCTION` clause. The function points to the Amazon SageMaker model endpoint that you want to use and specifies the variable names and data types to pass to the model. Subsequent clauses in the query reference the function to pass values to the model. The model runs inference based on the values that the query passes and then returns inference results."
   ]
  },
  {
   "cell_type": "markdown",
   "metadata": {},
   "source": [
    "<img src=\"img/athena_model.png\" width=\"50%\" align=\"left\">"
   ]
  },
  {
   "cell_type": "markdown",
   "metadata": {},
   "source": [
    "# Pre-Requisite\n",
    "\n",
    "## *Please note that ML with Athena is in Preview and will only work in the following regions that support Preview Functionality:*\n",
    "\n",
    "## *us-east-1,  us-west-2, ap-south-1, eu-west-1*\n"
   ]
  },
  {
   "cell_type": "markdown",
   "metadata": {},
   "source": [
    "### Check if you current regions supports AthenaML Preview"
   ]
  },
  {
   "cell_type": "code",
   "execution_count": 1,
   "metadata": {},
   "outputs": [],
   "source": [
    "import boto3\n",
    "import sagemaker\n",
    "import pandas as pd\n",
    "\n",
    "sess   = sagemaker.Session()\n",
    "bucket = sess.default_bucket()\n",
    "role = sagemaker.get_execution_role()\n",
    "region = boto3.Session().region_name\n",
    "\n",
    "sm = boto3.Session().client(service_name='sagemaker', region_name=region)"
   ]
  },
  {
   "cell_type": "code",
   "execution_count": 2,
   "metadata": {},
   "outputs": [
    {
     "name": "stdout",
     "output_type": "stream",
     "text": [
      "+++++++++++++++++++++++++++++++++++++++++++++++++++++++++++++++++++++++++\n",
      " SUCCESS: AthenaML IS SUPPORTED IN us-west-2\n",
      " Please proceed with this notebook.\n",
      "+++++++++++++++++++++++++++++++++++++++++++++++++++++++++++++++++++++++++\n"
     ]
    }
   ],
   "source": [
    "if region in ['eu-west-1', 'ap-south-1', 'us-east-1', 'us-west-2']:\n",
    "    print('+++++++++++++++++++++++++++++++++++++++++++++++++++++++++++++++++++++++++' )\n",
    "    print(' SUCCESS: AthenaML IS SUPPORTED IN {}'.format(region))\n",
    "    print(' Please proceed with this notebook.')\n",
    "    print('+++++++++++++++++++++++++++++++++++++++++++++++++++++++++++++++++++++++++' )\n",
    "else:\n",
    "    print('+++++++++++++++++++++++++++++++++++++++++++++++++++++++++++++++++++++++++' )\n",
    "    print(' !! AthenaML IS *NOT* SUPPORTED IN {} !!'.format(region))\n",
    "    print(' This is OK. SKIP this notebook and move ahead with the workshop.' )\n",
    "    print(' This notebook is not required for the rest of this workshop.' )\n",
    "    print('+++++++++++++++++++++++++++++++++++++++++++++++++++++++++++++++++++++++++' )"
   ]
  },
  {
   "cell_type": "markdown",
   "metadata": {},
   "source": [
    "# Pre-Requisite\n",
    "\n",
    "## _Please wait for the Autopilot Model to deploy!!  Otherwise, this notebook won't work properly._"
   ]
  },
  {
   "cell_type": "code",
   "execution_count": 3,
   "metadata": {},
   "outputs": [],
   "source": [
    "%store -r autopilot_endpoint_name"
   ]
  },
  {
   "cell_type": "code",
   "execution_count": 4,
   "metadata": {},
   "outputs": [
    {
     "name": "stdout",
     "output_type": "stream",
     "text": [
      "OK\n"
     ]
    }
   ],
   "source": [
    "try:\n",
    "    resp = sm.describe_endpoint(EndpointName=autopilot_endpoint_name)\n",
    "    status = resp['EndpointStatus']\n",
    "    print('OK')\n",
    "except: \n",
    "    print('+++++++++++++++++++++++++++++++++++++++++++++++++++++++++++++++++++++++++' )\n",
    "    print('STOP: You have to succesfully run the Autopilot notebook in the AutoML section,')\n",
    "    print('and have the model endpoint deployed before you continue.')\n",
    "    print('+++++++++++++++++++++++++++++++++++++++++++++++++++++++++++++++++++++++++' )   "
   ]
  },
  {
   "cell_type": "code",
   "execution_count": 5,
   "metadata": {},
   "outputs": [
    {
     "name": "stdout",
     "output_type": "stream",
     "text": [
      "automl-dm-ep-22-16-29-20\n"
     ]
    }
   ],
   "source": [
    "print(autopilot_endpoint_name)"
   ]
  },
  {
   "cell_type": "code",
   "execution_count": 6,
   "metadata": {},
   "outputs": [
    {
     "name": "stdout",
     "output_type": "stream",
     "text": [
      "+++++++++++++++++++++++++++++++++++++++++++++++++++++++++++++++++++++++++\n",
      " SUCCESS: Your Autopilot model is InService\n",
      " Please proceed with this notebook.\n",
      "+++++++++++++++++++++++++++++++++++++++++++++++++++++++++++++++++++++++++\n"
     ]
    }
   ],
   "source": [
    "try:\n",
    "    status\n",
    "    if status == 'InService':\n",
    "        print('+++++++++++++++++++++++++++++++++++++++++++++++++++++++++++++++++++++++++' )\n",
    "        print(' SUCCESS: Your Autopilot model is {}'.format(status))\n",
    "        print(' Please proceed with this notebook.')\n",
    "        print('+++++++++++++++++++++++++++++++++++++++++++++++++++++++++++++++++++++++++' )\n",
    "    else: \n",
    "        print('+++++++++++++++++++++++++++++++++++++++++++++++++++++++++++++++++++++++++' )\n",
    "        print(' STOP: Your Autopilot model is *NOT* InService. It is {}'.format(status))\n",
    "        print(' This is OK. Skip this notebook and move ahead with the workshop.' )\n",
    "        print(' This notebook is not required for the rest of this workshop.' )\n",
    "        print('+++++++++++++++++++++++++++++++++++++++++++++++++++++++++++++++++++++++++' )\n",
    "except:\n",
    "    print('+++++++++++++++++++++++++++++++++++++++++++++++++++++++++++++++++++++++++' )\n",
    "    print('STOP: You have to succesfully run the Autopilot notebook in the AutoML section,')\n",
    "    print('and have the model endpoint deployed before you continue.')\n",
    "    print('+++++++++++++++++++++++++++++++++++++++++++++++++++++++++++++++++++++++++' ) "
   ]
  },
  {
   "cell_type": "markdown",
   "metadata": {},
   "source": [
    "### Install PyAthena"
   ]
  },
  {
   "cell_type": "code",
   "execution_count": 7,
   "metadata": {},
   "outputs": [],
   "source": [
    "!pip install -q PyAthena==1.10.7"
   ]
  },
  {
   "cell_type": "code",
   "execution_count": 8,
   "metadata": {},
   "outputs": [],
   "source": [
    "from pyathena import connect\n",
    "from pyathena.pandas_cursor import PandasCursor\n",
    "from pyathena.util import as_pandas"
   ]
  },
  {
   "cell_type": "markdown",
   "metadata": {},
   "source": [
    "# Create an Athena Table with Sample Reviews"
   ]
  },
  {
   "cell_type": "code",
   "execution_count": 9,
   "metadata": {},
   "outputs": [],
   "source": [
    "# Set S3 prefixes\n",
    "tsv_prefix = 'amazon-reviews-pds/tsv'\n",
    "\n",
    "# Set Athena parameters\n",
    "database_name = 'dsoaws'\n",
    "table_name_tsv = 'amazon_reviews_tsv'\n",
    "table_name = 'product_reviews'"
   ]
  },
  {
   "cell_type": "code",
   "execution_count": 10,
   "metadata": {},
   "outputs": [],
   "source": [
    "# Set S3 staging directory -- this is a temporary directory used for Athena queries\n",
    "s3_staging_dir = 's3://{}/athena/staging'.format(bucket)"
   ]
  },
  {
   "cell_type": "code",
   "execution_count": 11,
   "metadata": {},
   "outputs": [
    {
     "name": "stdout",
     "output_type": "stream",
     "text": [
      "\n",
      "CREATE TABLE IF NOT EXISTS dsoaws.product_reviews AS \n",
      "SELECT review_id, review_body \n",
      "FROM dsoaws.amazon_reviews_tsv\n",
      "\n"
     ]
    }
   ],
   "source": [
    "# Create Table SQL Statement\n",
    "statement = \"\"\"\n",
    "CREATE TABLE IF NOT EXISTS {}.{} AS \n",
    "SELECT review_id, review_body \n",
    "FROM {}.{}\n",
    "\"\"\".format(database_name, table_name, database_name, table_name_tsv)\n",
    "\n",
    "print(statement)"
   ]
  },
  {
   "cell_type": "code",
   "execution_count": 12,
   "metadata": {},
   "outputs": [
    {
     "data": {
      "text/plain": [
       "<pyathena.cursor.Cursor at 0x7fde8d897f28>"
      ]
     },
     "execution_count": 12,
     "metadata": {},
     "output_type": "execute_result"
    }
   ],
   "source": [
    "# Execute statement using connection cursor\n",
    "cursor = connect(region_name=region, s3_staging_dir=s3_staging_dir).cursor()\n",
    "cursor.execute(statement)"
   ]
  },
  {
   "cell_type": "code",
   "execution_count": 13,
   "metadata": {},
   "outputs": [
    {
     "data": {
      "text/plain": [
       "<pyathena.cursor.Cursor at 0x7fde8d897f28>"
      ]
     },
     "execution_count": 13,
     "metadata": {},
     "output_type": "execute_result"
    }
   ],
   "source": [
    "statement = 'SELECT * FROM {}.{} LIMIT 10'.format(database_name, table_name)\n",
    "cursor.execute(statement)"
   ]
  },
  {
   "cell_type": "code",
   "execution_count": 14,
   "metadata": {
    "scrolled": true
   },
   "outputs": [
    {
     "data": {
      "text/html": [
       "<div>\n",
       "<style scoped>\n",
       "    .dataframe tbody tr th:only-of-type {\n",
       "        vertical-align: middle;\n",
       "    }\n",
       "\n",
       "    .dataframe tbody tr th {\n",
       "        vertical-align: top;\n",
       "    }\n",
       "\n",
       "    .dataframe thead th {\n",
       "        text-align: right;\n",
       "    }\n",
       "</style>\n",
       "<table border=\"1\" class=\"dataframe\">\n",
       "  <thead>\n",
       "    <tr style=\"text-align: right;\">\n",
       "      <th></th>\n",
       "      <th>review_id</th>\n",
       "      <th>review_body</th>\n",
       "    </tr>\n",
       "  </thead>\n",
       "  <tbody>\n",
       "    <tr>\n",
       "      <th>0</th>\n",
       "      <td>R2XR0UT1T6PLK2</td>\n",
       "      <td>Not as good as other video editing software bu...</td>\n",
       "    </tr>\n",
       "    <tr>\n",
       "      <th>1</th>\n",
       "      <td>RXHDB0XFQ4ZNG</td>\n",
       "      <td>It's MS, what can you say? Some of the feature...</td>\n",
       "    </tr>\n",
       "    <tr>\n",
       "      <th>2</th>\n",
       "      <td>RB73SNLMTWW61</td>\n",
       "      <td>works!</td>\n",
       "    </tr>\n",
       "    <tr>\n",
       "      <th>3</th>\n",
       "      <td>R2AMUKDZL5F8AY</td>\n",
       "      <td>can register only in local..&lt;br /&gt;here is cann...</td>\n",
       "    </tr>\n",
       "    <tr>\n",
       "      <th>4</th>\n",
       "      <td>R1066MVAFC477L</td>\n",
       "      <td>It's good</td>\n",
       "    </tr>\n",
       "    <tr>\n",
       "      <th>5</th>\n",
       "      <td>R3ACS9EZBEQNT0</td>\n",
       "      <td>I have been a Cook'n user for many years.  I s...</td>\n",
       "    </tr>\n",
       "    <tr>\n",
       "      <th>6</th>\n",
       "      <td>R1UZEYT16XOT6Y</td>\n",
       "      <td>I use this on a Windows 7 and 8 PC. One touch ...</td>\n",
       "    </tr>\n",
       "    <tr>\n",
       "      <th>7</th>\n",
       "      <td>R2CPRFRM9B5EBK</td>\n",
       "      <td>Everyone beware of this Co. I wrote a lengthy ...</td>\n",
       "    </tr>\n",
       "    <tr>\n",
       "      <th>8</th>\n",
       "      <td>R25EJYR6FR2J1C</td>\n",
       "      <td>No review at this time.</td>\n",
       "    </tr>\n",
       "    <tr>\n",
       "      <th>9</th>\n",
       "      <td>R3N3RDCHGOP6CL</td>\n",
       "      <td>Easy to install, great user interface, and fan...</td>\n",
       "    </tr>\n",
       "  </tbody>\n",
       "</table>\n",
       "</div>"
      ],
      "text/plain": [
       "        review_id                                        review_body\n",
       "0  R2XR0UT1T6PLK2  Not as good as other video editing software bu...\n",
       "1   RXHDB0XFQ4ZNG  It's MS, what can you say? Some of the feature...\n",
       "2   RB73SNLMTWW61                                             works!\n",
       "3  R2AMUKDZL5F8AY  can register only in local..<br />here is cann...\n",
       "4  R1066MVAFC477L                                          It's good\n",
       "5  R3ACS9EZBEQNT0  I have been a Cook'n user for many years.  I s...\n",
       "6  R1UZEYT16XOT6Y  I use this on a Windows 7 and 8 PC. One touch ...\n",
       "7  R2CPRFRM9B5EBK  Everyone beware of this Co. I wrote a lengthy ...\n",
       "8  R25EJYR6FR2J1C                            No review at this time.\n",
       "9  R3N3RDCHGOP6CL  Easy to install, great user interface, and fan..."
      ]
     },
     "execution_count": 14,
     "metadata": {},
     "output_type": "execute_result"
    }
   ],
   "source": [
    "df_show = as_pandas(cursor)\n",
    "df_show"
   ]
  },
  {
   "cell_type": "markdown",
   "metadata": {},
   "source": [
    "## Add the Required `AmazonAthenaPreviewFunctionality` Work Group to Use This Preview Feature"
   ]
  },
  {
   "cell_type": "code",
   "execution_count": 15,
   "metadata": {},
   "outputs": [
    {
     "name": "stdout",
     "output_type": "stream",
     "text": [
      "{'ResponseMetadata': {'RequestId': '5e437788-0bfe-43ad-9171-abe22d79e112', 'HTTPStatusCode': 200, 'HTTPHeaders': {'content-type': 'application/x-amz-json-1.1', 'date': 'Sat, 22 Aug 2020 22:26:29 GMT', 'x-amzn-requestid': '5e437788-0bfe-43ad-9171-abe22d79e112', 'content-length': '2', 'connection': 'keep-alive'}, 'RetryAttempts': 0}}\n"
     ]
    }
   ],
   "source": [
    "import boto3\n",
    "from botocore.exceptions import ClientError\n",
    "\n",
    "client = boto3.client('athena')\n",
    "\n",
    "try:\n",
    "    response = client.create_work_group(Name='AmazonAthenaPreviewFunctionality') \n",
    "    print(response)\n",
    "except ClientError as e:\n",
    "    if e.response['Error']['Code'] == 'InvalidRequestException':\n",
    "        print(\"Workgroup already exists.\")\n",
    "    else:\n",
    "        print(\"Unexpected error: %s\" % e)\n",
    "        print('Make sure you are in one of the supported regions.')\n",
    "    \n"
   ]
  },
  {
   "cell_type": "markdown",
   "metadata": {},
   "source": [
    "# Create SQL Query"
   ]
  },
  {
   "cell_type": "markdown",
   "metadata": {},
   "source": [
    "The `USING FUNCTION` clause specifies an ML with Athena (Preview) function or multiple functions that can be referenced by a subsequent `SELECT` statement in the query. You define the function name, variable names, and data types for the variables and return values."
   ]
  },
  {
   "cell_type": "code",
   "execution_count": 16,
   "metadata": {
    "scrolled": true
   },
   "outputs": [
    {
     "name": "stdout",
     "output_type": "stream",
     "text": [
      "\n",
      "USING FUNCTION predict_star_rating(review_body VARCHAR) \n",
      "    RETURNS VARCHAR TYPE\n",
      "    SAGEMAKER_INVOKE_ENDPOINT WITH (sagemaker_endpoint = 'automl-dm-ep-22-16-29-20'\n",
      ")\n",
      "SELECT review_id, review_body, predict_star_rating(REPLACE(review_body, ',', ' ')) AS predicted_star_rating \n",
      "    FROM dsoaws.product_reviews LIMIT 10\n",
      "    \n"
     ]
    }
   ],
   "source": [
    "statement = \"\"\"\n",
    "USING FUNCTION predict_star_rating(review_body VARCHAR) \n",
    "    RETURNS VARCHAR TYPE\n",
    "    SAGEMAKER_INVOKE_ENDPOINT WITH (sagemaker_endpoint = '{}'\n",
    ")\n",
    "SELECT review_id, review_body, predict_star_rating(REPLACE(review_body, ',', ' ')) AS predicted_star_rating \n",
    "    FROM {}.{} LIMIT 10\n",
    "    \"\"\".format(autopilot_endpoint_name, database_name, table_name)\n",
    "\n",
    "print(statement)"
   ]
  },
  {
   "cell_type": "markdown",
   "metadata": {},
   "source": [
    "# Query the Autopilot Endpoint using Data from the Athena Table"
   ]
  },
  {
   "cell_type": "code",
   "execution_count": 17,
   "metadata": {},
   "outputs": [
    {
     "data": {
      "text/plain": [
       "<pyathena.cursor.Cursor at 0x7fde8d2a75f8>"
      ]
     },
     "execution_count": 17,
     "metadata": {},
     "output_type": "execute_result"
    }
   ],
   "source": [
    "# Execute statement using connection cursor\n",
    "cursor = connect(region_name=region, \n",
    "                 s3_staging_dir=s3_staging_dir).cursor()\n",
    "cursor.execute(statement, \n",
    "               work_group='AmazonAthenaPreviewFunctionality')"
   ]
  },
  {
   "cell_type": "markdown",
   "metadata": {},
   "source": [
    "##  _^^^^ If you see an `OperationalError` above ^^^^, your model endpoint is not deployed and InService. Please make sure you succesfully run the Autopilot notebook._"
   ]
  },
  {
   "cell_type": "code",
   "execution_count": 18,
   "metadata": {},
   "outputs": [],
   "source": [
    "df = as_pandas(cursor)"
   ]
  },
  {
   "cell_type": "code",
   "execution_count": 19,
   "metadata": {},
   "outputs": [
    {
     "data": {
      "text/html": [
       "<div>\n",
       "<style scoped>\n",
       "    .dataframe tbody tr th:only-of-type {\n",
       "        vertical-align: middle;\n",
       "    }\n",
       "\n",
       "    .dataframe tbody tr th {\n",
       "        vertical-align: top;\n",
       "    }\n",
       "\n",
       "    .dataframe thead th {\n",
       "        text-align: right;\n",
       "    }\n",
       "</style>\n",
       "<table border=\"1\" class=\"dataframe\">\n",
       "  <thead>\n",
       "    <tr style=\"text-align: right;\">\n",
       "      <th></th>\n",
       "      <th>review_id</th>\n",
       "      <th>review_body</th>\n",
       "      <th>predicted_star_rating</th>\n",
       "    </tr>\n",
       "  </thead>\n",
       "  <tbody>\n",
       "    <tr>\n",
       "      <th>0</th>\n",
       "      <td>R2XR0UT1T6PLK2</td>\n",
       "      <td>Not as good as other video editing software bu...</td>\n",
       "      <td>3</td>\n",
       "    </tr>\n",
       "    <tr>\n",
       "      <th>1</th>\n",
       "      <td>RXHDB0XFQ4ZNG</td>\n",
       "      <td>It's MS, what can you say? Some of the feature...</td>\n",
       "      <td>1</td>\n",
       "    </tr>\n",
       "    <tr>\n",
       "      <th>2</th>\n",
       "      <td>RB73SNLMTWW61</td>\n",
       "      <td>works!</td>\n",
       "      <td>4</td>\n",
       "    </tr>\n",
       "    <tr>\n",
       "      <th>3</th>\n",
       "      <td>R2AMUKDZL5F8AY</td>\n",
       "      <td>can register only in local..&lt;br /&gt;here is cann...</td>\n",
       "      <td>5</td>\n",
       "    </tr>\n",
       "    <tr>\n",
       "      <th>4</th>\n",
       "      <td>R1066MVAFC477L</td>\n",
       "      <td>It's good</td>\n",
       "      <td>4</td>\n",
       "    </tr>\n",
       "    <tr>\n",
       "      <th>5</th>\n",
       "      <td>R3ACS9EZBEQNT0</td>\n",
       "      <td>I have been a Cook'n user for many years.  I s...</td>\n",
       "      <td>5</td>\n",
       "    </tr>\n",
       "    <tr>\n",
       "      <th>6</th>\n",
       "      <td>R1UZEYT16XOT6Y</td>\n",
       "      <td>I use this on a Windows 7 and 8 PC. One touch ...</td>\n",
       "      <td>5</td>\n",
       "    </tr>\n",
       "    <tr>\n",
       "      <th>7</th>\n",
       "      <td>R2CPRFRM9B5EBK</td>\n",
       "      <td>Everyone beware of this Co. I wrote a lengthy ...</td>\n",
       "      <td>1</td>\n",
       "    </tr>\n",
       "    <tr>\n",
       "      <th>8</th>\n",
       "      <td>R25EJYR6FR2J1C</td>\n",
       "      <td>No review at this time.</td>\n",
       "      <td>5</td>\n",
       "    </tr>\n",
       "    <tr>\n",
       "      <th>9</th>\n",
       "      <td>R3N3RDCHGOP6CL</td>\n",
       "      <td>Easy to install, great user interface, and fan...</td>\n",
       "      <td>5</td>\n",
       "    </tr>\n",
       "  </tbody>\n",
       "</table>\n",
       "</div>"
      ],
      "text/plain": [
       "        review_id                                        review_body  \\\n",
       "0  R2XR0UT1T6PLK2  Not as good as other video editing software bu...   \n",
       "1   RXHDB0XFQ4ZNG  It's MS, what can you say? Some of the feature...   \n",
       "2   RB73SNLMTWW61                                             works!   \n",
       "3  R2AMUKDZL5F8AY  can register only in local..<br />here is cann...   \n",
       "4  R1066MVAFC477L                                          It's good   \n",
       "5  R3ACS9EZBEQNT0  I have been a Cook'n user for many years.  I s...   \n",
       "6  R1UZEYT16XOT6Y  I use this on a Windows 7 and 8 PC. One touch ...   \n",
       "7  R2CPRFRM9B5EBK  Everyone beware of this Co. I wrote a lengthy ...   \n",
       "8  R25EJYR6FR2J1C                            No review at this time.   \n",
       "9  R3N3RDCHGOP6CL  Easy to install, great user interface, and fan...   \n",
       "\n",
       "  predicted_star_rating  \n",
       "0                     3  \n",
       "1                     1  \n",
       "2                     4  \n",
       "3                     5  \n",
       "4                     4  \n",
       "5                     5  \n",
       "6                     5  \n",
       "7                     1  \n",
       "8                     5  \n",
       "9                     5  "
      ]
     },
     "execution_count": 19,
     "metadata": {},
     "output_type": "execute_result"
    }
   ],
   "source": [
    "df.head(10)"
   ]
  },
  {
   "cell_type": "markdown",
   "metadata": {},
   "source": [
    "# Delete Endpoint"
   ]
  },
  {
   "cell_type": "code",
   "execution_count": 20,
   "metadata": {},
   "outputs": [
    {
     "data": {
      "text/plain": [
       "{'ResponseMetadata': {'RequestId': '65b6f2b1-03ca-428f-974a-7864b26c39c8',\n",
       "  'HTTPStatusCode': 200,\n",
       "  'HTTPHeaders': {'x-amzn-requestid': '65b6f2b1-03ca-428f-974a-7864b26c39c8',\n",
       "   'content-type': 'application/x-amz-json-1.1',\n",
       "   'content-length': '0',\n",
       "   'date': 'Sat, 22 Aug 2020 22:26:33 GMT'},\n",
       "  'RetryAttempts': 0}}"
      ]
     },
     "execution_count": 20,
     "metadata": {},
     "output_type": "execute_result"
    }
   ],
   "source": [
    "sm = boto3.client('sagemaker')\n",
    "\n",
    "sm.delete_endpoint(\n",
    "    EndpointName=autopilot_endpoint_name\n",
    ")"
   ]
  },
  {
   "cell_type": "code",
   "execution_count": 21,
   "metadata": {},
   "outputs": [],
   "source": [
    "%%javascript\n",
    "Jupyter.notebook.save_checkpoint();\n",
    "Jupyter.notebook.session.delete();"
   ]
  }
 ],
 "metadata": {
  "kernelspec": {
   "display_name": "conda_python3",
   "language": "python",
   "name": "conda_python3"
  },
  "language_info": {
   "codemirror_mode": {
    "name": "ipython",
    "version": 3
   },
   "file_extension": ".py",
   "mimetype": "text/x-python",
   "name": "python",
   "nbconvert_exporter": "python",
   "pygments_lexer": "ipython3",
   "version": "3.6.10"
  }
 },
 "nbformat": 4,
 "nbformat_minor": 4
}
