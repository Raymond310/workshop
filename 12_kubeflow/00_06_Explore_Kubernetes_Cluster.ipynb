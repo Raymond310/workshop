{
 "cells": [
  {
   "cell_type": "markdown",
   "metadata": {},
   "source": [
    "# `kubectl` Kubernetes CLI"
   ]
  },
  {
   "cell_type": "code",
   "execution_count": 1,
   "metadata": {},
   "outputs": [
    {
     "name": "stdout",
     "output_type": "stream",
     "text": [
      "NAME              STATUS   AGE\r\n",
      "anonymous         Active   3m26s\r\n",
      "cert-manager      Active   27m\r\n",
      "default           Active   3h41m\r\n",
      "istio-system      Active   27m\r\n",
      "knative-serving   Active   27m\r\n",
      "kube-node-lease   Active   3h41m\r\n",
      "kube-public       Active   3h41m\r\n",
      "kube-system       Active   3h41m\r\n",
      "kubeflow          Active   27m\r\n"
     ]
    }
   ],
   "source": [
    "!kubectl get namespaces"
   ]
  },
  {
   "cell_type": "code",
   "execution_count": 2,
   "metadata": {},
   "outputs": [
    {
     "name": "stdout",
     "output_type": "stream",
     "text": [
      "NAME         READY   STATUS    RESTARTS   AGE\r\n",
      "notebook-0   2/2     Running   0          105s\r\n"
     ]
    }
   ],
   "source": [
    "!kubectl get pods --namespace anonymous"
   ]
  },
  {
   "cell_type": "code",
   "execution_count": 3,
   "metadata": {},
   "outputs": [
    {
     "name": "stdout",
     "output_type": "stream",
     "text": [
      "[I 00:23:14.278 NotebookApp] Writing notebook server cookie secret to /root/.local/share/jupyter/runtime/notebook_cookie_secret\r\n",
      "[W 00:23:14.441 NotebookApp] All authentication is disabled.  Anyone who can connect to this server will be able to run code.\r\n",
      "[I 00:23:14.465 NotebookApp] JupyterLab extension loaded from /opt/conda/lib/python3.6/site-packages/jupyterlab\r\n",
      "[I 00:23:14.465 NotebookApp] JupyterLab application directory is /opt/conda/share/jupyter/lab\r\n",
      "[I 00:23:14.466 NotebookApp] Serving notebooks from local directory: /home/jovyan\r\n",
      "[I 00:23:14.467 NotebookApp] The Jupyter Notebook is running at:\r\n",
      "[I 00:23:14.467 NotebookApp] http://notebook-0:8888/notebook/anonymous/notebook/\r\n",
      "[I 00:23:14.467 NotebookApp] Use Control-C to stop this server and shut down all kernels (twice to skip confirmation).\r\n",
      "[I 00:23:32.026 NotebookApp] 302 GET /notebook/anonymous/notebook/ (127.0.0.1) 0.57ms\r\n"
     ]
    }
   ],
   "source": [
    "!kubectl logs notebook-0 --container notebook --namespace anonymous"
   ]
  },
  {
   "cell_type": "code",
   "execution_count": null,
   "metadata": {},
   "outputs": [
    {
     "data": {
      "application/javascript": [
       "Jupyter.notebook.save_checkpoint();\n",
       "Jupyter.notebook.session.delete();\n"
      ],
      "text/plain": [
       "<IPython.core.display.Javascript object>"
      ]
     },
     "metadata": {},
     "output_type": "display_data"
    }
   ],
   "source": [
    "%%javascript\n",
    "Jupyter.notebook.save_checkpoint();\n",
    "Jupyter.notebook.session.delete();"
   ]
  },
  {
   "cell_type": "code",
   "execution_count": null,
   "metadata": {},
   "outputs": [],
   "source": []
  }
 ],
 "metadata": {
  "kernelspec": {
   "display_name": "conda_python3",
   "language": "python",
   "name": "conda_python3"
  },
  "language_info": {
   "codemirror_mode": {
    "name": "ipython",
    "version": 3
   },
   "file_extension": ".py",
   "mimetype": "text/x-python",
   "name": "python",
   "nbconvert_exporter": "python",
   "pygments_lexer": "ipython3",
   "version": "3.6.10"
  }
 },
 "nbformat": 4,
 "nbformat_minor": 4
}
